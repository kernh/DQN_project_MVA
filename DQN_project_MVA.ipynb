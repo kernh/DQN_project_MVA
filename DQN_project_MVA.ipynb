{
 "cells": [
  {
   "cell_type": "markdown",
   "metadata": {},
   "source": [
    "**You may need to install [OpenCV](https://pypi.python.org/pypi/opencv-python) and [scikit-video](http://www.scikit-video.org/stable/).**"
   ]
  },
  {
   "cell_type": "code",
   "execution_count": 2,
   "metadata": {},
   "outputs": [
    {
     "name": "stderr",
     "output_type": "stream",
     "text": [
      "Using TensorFlow backend.\n"
     ]
    }
   ],
   "source": [
    "import keras\n",
    "import numpy as np\n",
    "import io\n",
    "import base64\n",
    "from IPython.display import HTML\n",
    "import skvideo.io\n",
    "import cv2\n",
    "import json\n",
    "\n",
    "\n",
    "from keras.models import Sequential,model_from_json\n",
    "from keras.layers.core import Dense\n",
    "from keras.optimizers import sgd, Adam\n",
    "from keras.layers import Conv2D, MaxPooling2D, Activation, AveragePooling2D,Reshape,BatchNormalization"
   ]
  },
  {
   "cell_type": "markdown",
   "metadata": {},
   "source": [
    "# MiniProject #3: Deep Reinforcement Learning"
   ]
  },
  {
   "cell_type": "markdown",
   "metadata": {},
   "source": [
    "__Notations__: $E_p$ is the expectation under probability $p$. Please justify each of your answer and widely comment your code."
   ]
  },
  {
   "cell_type": "markdown",
   "metadata": {},
   "source": [
    "# Context"
   ]
  },
  {
   "cell_type": "markdown",
   "metadata": {},
   "source": [
    "In a reinforcement learning algorithm, we modelize each step $t$ as an action $a_t$ obtained from a state $s_t$, i.e. $\\{(a_{t},s_{t})_{t\\leq T}\\}$ having the Markov property. We consider a discount factor $\\gamma \\in [0,1]$ that ensures convergence. The goal is to find among all the policies $\\pi$, one that maximizes the expected reward:\n",
    "\n",
    "\\begin{equation*}\n",
    "R(\\pi)=\\sum_{t\\leq T}E_{p^{\\pi}}[\\gamma^t r(s_{t},a_{t})] \\> ,\n",
    "\\end{equation*}\n",
    "\n",
    "where: \n",
    "\\begin{equation*}p^{\\pi}(a_{0},a_{1},s_{1},...,a_{T},s_{T})=p(a_{0})\\prod_{t=1}^{T}\\pi(a_{t}|s_{t})p(s_{t+1}|s_{t},a_{t}) \\> .\n",
    "\\end{equation*}\n",
    "\n",
    "We note the $Q$-function:\n",
    "\n",
    "\\begin{equation*}Q^\\pi(s,a)=E_{p^{\\pi}}[\\sum_{t\\leq T}\\gamma^{t}r(s_{t},a_{t})|s_{0}=s,a_{0}=a] \\> .\n",
    "\\end{equation*}\n",
    "\n",
    "Thus, the optimal Q function is:\n",
    "\\begin{equation*}\n",
    "Q^*(s,a)=\\max_{\\pi}Q^\\pi(s,a) \\> .\n",
    "\\end{equation*}\n",
    "\n",
    "In this project, we will apply the deep reinforcement learning techniques to a simple game: an agent will have to learn from scratch a policy that will permit it maximizing a reward."
   ]
  },
  {
   "cell_type": "markdown",
   "metadata": {},
   "source": [
    "## The environment, the agent and the game"
   ]
  },
  {
   "cell_type": "markdown",
   "metadata": {},
   "source": [
    "### The environment"
   ]
  },
  {
   "cell_type": "markdown",
   "metadata": {},
   "source": [
    "```Environment``` is an abstract class that represents the states, rewards, and actions to obtain the new state."
   ]
  },
  {
   "cell_type": "code",
   "execution_count": 3,
   "metadata": {},
   "outputs": [],
   "source": [
    "class Environment(object):\n",
    "    def __init__(self):\n",
    "        pass\n",
    "\n",
    "    def act(self, act):\n",
    "        \"\"\"\n",
    "        One can act on the environment and obtain its reaction:\n",
    "        - the new state\n",
    "        - the reward of the new state\n",
    "        - should we continue the game?\n",
    "\n",
    "        :return: state, reward, game_over\n",
    "        \"\"\"\n",
    "        pass\n",
    "\n",
    "\n",
    "    def reset(self):\n",
    "        \"\"\"\n",
    "        Reinitialize the environment to a random state and returns\n",
    "        the original state\n",
    "\n",
    "        :return: state\n",
    "        \"\"\"\n",
    "        pass\n",
    "    \n",
    "    def draw(self):\n",
    "        \"\"\"\n",
    "        Visualize in the console or graphically the current state\n",
    "        \"\"\"\n",
    "        pass"
   ]
  },
  {
   "cell_type": "markdown",
   "metadata": {},
   "source": [
    "The method ```act``` allows to act on the environment at a given state $s_t$ (stored internally), via action $a_t$. The method will return the new state $s_{t+1}$, the reward $r(s_{t},a_{t})$ and determines if $t\\leq T$ (*game_over*).\n",
    "\n",
    "The method ```reset``` simply reinitializes the environment to a random state $s_0$.\n",
    "\n",
    "The method ```draw``` displays the current state $s_t$ (this is useful to check the behavior of the Agent).\n",
    "\n",
    "We modelize $s_t$ as a tensor, while $a_t$ is an integer."
   ]
  },
  {
   "cell_type": "markdown",
   "metadata": {},
   "source": [
    "### The Agent"
   ]
  },
  {
   "cell_type": "markdown",
   "metadata": {},
   "source": [
    "The goal of the ```Agent``` is to interact with the ```Environment``` by proposing actions $a_t$ obtained from a given state $s_t$ to attempt to maximize its __reward__ $r(s_t,a_t)$. We propose the following abstract class:"
   ]
  },
  {
   "cell_type": "code",
   "execution_count": 4,
   "metadata": {},
   "outputs": [],
   "source": [
    "class Agent(object):\n",
    "    def __init__(self, epsilon=0.1, n_action=4):\n",
    "        self.epsilon = epsilon\n",
    "        self.n_action = n_action\n",
    "    \n",
    "    def set_epsilon(self,e):\n",
    "        self.epsilon = e\n",
    "\n",
    "    def act(self,s,train=True):\n",
    "        \"\"\" This function should return the next action to do:\n",
    "        an integer between 0 and 4 (not included) with a random exploration of epsilon\"\"\"\n",
    "        if train:\n",
    "            if np.random.rand() <= self.epsilon:\n",
    "                a = np.random.randint(0, self.n_action, size=1)[0]\n",
    "            else:\n",
    "                a = self.learned_act(s)\n",
    "        else: # in some cases, this can improve the performance.. remove it if poor performances\n",
    "            a = self.learned_act(s)\n",
    "        return a\n",
    "\n",
    "    def learned_act(self,s):\n",
    "        \"\"\" Act via the policy of the agent, from a given state s\n",
    "        it proposes an action a\"\"\"\n",
    "        pass\n",
    "\n",
    "    def reinforce(self, s, n_s, a, r, game_over_):\n",
    "        \"\"\" This function is the core of the learning algorithm. \n",
    "        It takes as an input the current state s_, the next state n_s_\n",
    "        the action a_ used to move from s_ to n_s_ and the reward r_.\n",
    "        \n",
    "        Its goal is to learn a policy.\n",
    "        \"\"\"\n",
    "        pass\n",
    "\n",
    "    def save(self):\n",
    "        \"\"\" This function returns basic stats if applicable: the\n",
    "        loss and/or the model\"\"\"\n",
    "        pass\n",
    "\n",
    "    def load(self):\n",
    "        \"\"\" This function allows to restore a model\"\"\"\n",
    "        pass"
   ]
  },
  {
   "cell_type": "markdown",
   "metadata": {},
   "source": [
    "***\n",
    "__Question 1__:\n",
    "Explain the function act. Why is ```epsilon``` essential?"
   ]
  },
  {
   "cell_type": "markdown",
   "metadata": {},
   "source": [
    "> The function ```act``` takes as input the initial state and returns the new state, the reward and wether the game ends or not. An action is taken into the set of action ```n_action```. The algorithm has two possible paths : either $train = True$ and the function can try actions and learn what is the output of choosing this action, or $train = False$ and the algorithm only outputs the actions that have been learned during the training process.\n",
    "> During the training process, the value of epsilon allows the agent to \"try\" some actions that are not stored as learned actions. Thanks to that epsilon, the agent can learn the results of choosing another action."
   ]
  },
  {
   "cell_type": "markdown",
   "metadata": {},
   "source": [
    "***\n",
    "### The Game"
   ]
  },
  {
   "cell_type": "markdown",
   "metadata": {},
   "source": [
    "The ```Agent``` and the ```Environment``` work in an interlaced way as in the following (take some time to understand this code as it is the core of the project)\n",
    "\n",
    "```python\n",
    "\n",
    "epoch = 300\n",
    "env = Environment()\n",
    "agent = Agent()\n",
    "\n",
    "\n",
    "# Number of won games\n",
    "score = 0\n",
    "loss = 0\n",
    "\n",
    "\n",
    "for e in range(epoch):\n",
    "    # At each epoch, we restart to a fresh game and get the initial state\n",
    "    state = env.reset()\n",
    "    # This assumes that the games will end\n",
    "    game_over = False\n",
    "\n",
    "    win = 0\n",
    "    lose = 0\n",
    "    \n",
    "    while not game_over:\n",
    "        # The agent performs an action\n",
    "        action = agent.act(state)\n",
    "\n",
    "        # Apply an action to the environment, get the next state, the reward\n",
    "        # and if the games end\n",
    "        prev_state = state\n",
    "        state, reward, game_over = env.act(action)\n",
    "\n",
    "        # Update the counters\n",
    "        if reward > 0:\n",
    "            win = win + reward\n",
    "        if reward < 0:\n",
    "            lose = lose -reward\n",
    "\n",
    "        # Apply the reinforcement strategy\n",
    "        loss = agent.reinforce(prev_state, state,  action, reward, game_over)\n",
    "\n",
    "    # Save as a mp4\n",
    "    if e % 10 == 0:\n",
    "        env.draw(e)\n",
    "\n",
    "    # Update stats\n",
    "    score += win-lose\n",
    "\n",
    "    print(\"Epoch {:03d}/{:03d} | Loss {:.4f} | Win/lose count {}/{} ({})\"\n",
    "          .format(e, epoch, loss, win, lose, win-lose))\n",
    "    agent.save()\n",
    "```"
   ]
  },
  {
   "cell_type": "markdown",
   "metadata": {},
   "source": [
    "# The game, *eat cheese*"
   ]
  },
  {
   "cell_type": "markdown",
   "metadata": {},
   "source": [
    "A rat runs on an island and tries to eat as much as possible. The island is subdivided into $N\\times N$ cells, in which there are cheese (+0.5) and poisonous cells (-1). The rat has a visibility of 2 cells (thus it can see $5^2$ cells). The rat is given a time $T$ to accumulate as much food as possible. It can perform 4 actions: going up, down, left, right. \n",
    "\n",
    "The goal is to code an agent to solve this task that will learn by trial and error. We propose the following environment:"
   ]
  },
  {
   "cell_type": "code",
   "execution_count": 5,
   "metadata": {},
   "outputs": [],
   "source": [
    "class Environment(object):\n",
    "    def __init__(self, grid_size=10, max_time=500, temperature=0.1):\n",
    "        grid_size = grid_size+4\n",
    "        self.grid_size = grid_size\n",
    "        self.max_time = max_time\n",
    "        self.temperature = temperature\n",
    "\n",
    "        #board on which one plays\n",
    "        self.board = np.zeros((grid_size,grid_size))\n",
    "        self.position = np.zeros((grid_size,grid_size))\n",
    "\n",
    "        # coordinate of Jerry\n",
    "        self.x = 0\n",
    "        self.y = 1\n",
    "\n",
    "        # self time\n",
    "        self.t = 0\n",
    "\n",
    "        self.scale=16\n",
    "\n",
    "        self.to_draw = np.zeros((max_time+2, grid_size*self.scale, grid_size*self.scale, 3))\n",
    "\n",
    "\n",
    "    def draw(self,e):\n",
    "        skvideo.io.vwrite(str(e) + '.mp4', self.to_draw)\n",
    "\n",
    "    def get_frame(self,t):\n",
    "        b = np.zeros((self.grid_size,self.grid_size,3))+128\n",
    "        b[self.board>0,0] = 256\n",
    "        b[self.board < 0, 2] = 256\n",
    "        b[self.x,self.y,:]=256\n",
    "        b[-2:,:,:]=0\n",
    "        b[:,-2:,:]=0\n",
    "        b[:2,:,:]=0\n",
    "        b[:,:2,:]=0\n",
    "        \n",
    "        b =  cv2.resize(b, None, fx=self.scale, fy=self.scale, interpolation=cv2.INTER_NEAREST)\n",
    "\n",
    "        self.to_draw[t,:,:,:]=b\n",
    "\n",
    "\n",
    "    def act(self, action):\n",
    "        \"\"\"This function returns the new state, reward and decides if the\n",
    "        game ends.\"\"\"\n",
    "\n",
    "        self.get_frame(int(self.t))\n",
    "\n",
    "        self.position = np.zeros((self.grid_size, self.grid_size))\n",
    "\n",
    "        self.position[0:2,:]= -1\n",
    "        self.position[:,0:2] = -1\n",
    "        self.position[-2:, :] = -1\n",
    "        self.position[:,-2:] = -1 #line changed\n",
    "\n",
    "        self.position[self.x, self.y] = 1\n",
    "        if action == 0: #right\n",
    "            if self.x == self.grid_size-3:\n",
    "                self.x = self.x-1\n",
    "            else:\n",
    "                self.x = self.x + 1\n",
    "        elif action == 1: #left\n",
    "            if self.x == 2:\n",
    "                self.x = self.x+1\n",
    "            else:\n",
    "                self.x = self.x-1\n",
    "        elif action == 2: #up\n",
    "            if self.y == self.grid_size - 3:\n",
    "                self.y = self.y - 1\n",
    "            else:\n",
    "                self.y = self.y + 1\n",
    "        elif action == 3: #down\n",
    "            if self.y == 2:\n",
    "                self.y = self.y + 1\n",
    "            else:\n",
    "                self.y = self.y - 1\n",
    "        else:\n",
    "            RuntimeError('Error: action not recognized')\n",
    "\n",
    "        self.t = self.t + 1\n",
    "        reward = self.board[self.x, self.y]\n",
    "        self.board[self.x, self.y] = 0\n",
    "        game_over = self.t > self.max_time\n",
    "        state = np.concatenate((self.board.reshape(self.grid_size, self.grid_size,1),\n",
    "                        self.position.reshape(self.grid_size, self.grid_size,1)),axis=2)\n",
    "        state = state[self.x-2:self.x+3,self.y-2:self.y+3,:]\n",
    "\n",
    "        return state, reward, game_over\n",
    "\n",
    "    def reset(self):\n",
    "        \"\"\"This function resets the game and returns the initial state\"\"\"\n",
    "\n",
    "        self.x = np.random.randint(3, self.grid_size-3, size=1)[0]\n",
    "        self.y = np.random.randint(3, self.grid_size-3, size=1)[0]\n",
    "\n",
    "\n",
    "        bonus = 0.5*np.random.binomial(1,self.temperature,size=self.grid_size**2)\n",
    "        bonus = bonus.reshape(self.grid_size,self.grid_size)\n",
    "\n",
    "        malus = -1.0*np.random.binomial(1,self.temperature,size=self.grid_size**2)\n",
    "        malus = malus.reshape(self.grid_size, self.grid_size)\n",
    "\n",
    "        self.to_draw = np.zeros((self.max_time+2, self.grid_size*self.scale, self.grid_size*self.scale, 3))\n",
    "\n",
    "\n",
    "        malus[bonus>0]=0\n",
    "\n",
    "        self.board = bonus + malus\n",
    "\n",
    "        self.position = np.zeros((self.grid_size, self.grid_size))\n",
    "        self.position[0:2,:]= -1\n",
    "        self.position[:,0:2] = -1\n",
    "        self.position[-2:, :] = -1\n",
    "        self.position[:,-2:] = -1\n",
    "        self.board[self.x,self.y] = 0\n",
    "        self.t = 0\n",
    "\n",
    "        state = np.concatenate((\n",
    "                               self.board.reshape(self.grid_size, self.grid_size,1),\n",
    "                        self.position.reshape(self.grid_size, self.grid_size,1)),axis=2)\n",
    "\n",
    "        state = state[self.x - 2:self.x + 3, self.y - 2:self.y + 3, :]\n",
    "        return state"
   ]
  },
  {
   "cell_type": "markdown",
   "metadata": {},
   "source": [
    "The following elements are important because they correspond to the hyper parameters for this project:"
   ]
  },
  {
   "cell_type": "code",
   "execution_count": 6,
   "metadata": {},
   "outputs": [],
   "source": [
    "# parameters\n",
    "size = 13\n",
    "T=200\n",
    "temperature=0.3\n",
    "epochs_train=61 # set small when debugging\n",
    "epochs_test=11 # set small when debugging\n",
    "\n",
    "# display videos\n",
    "def display_videos(name):\n",
    "    video = io.open(name, 'r+b').read()\n",
    "    encoded = base64.b64encode(video)\n",
    "    return '''<video alt=\"test\" controls>\n",
    "                <source src=\"data:video/mp4;base64,{0}\" type=\"video/mp4\" />\n",
    "             </video>'''.format(encoded.decode('ascii'))"
   ]
  },
  {
   "cell_type": "markdown",
   "metadata": {},
   "source": [
    "__Question 2__ Explain the use of the arrays ```position``` and ```board```."
   ]
  },
  {
   "cell_type": "markdown",
   "metadata": {},
   "source": [
    "> The two arrays have a shape of $(grid\\_size + 4)*(grid\\_size + 4)$.\n",
    ">\n",
    "> The board is necesary to store the positions of the bonus and malus cells. at the beginning. It is updated during the function ```act```.\n",
    "> The array ```position``` stores the position of the user and unables the cells on the edge of the grid (filled with -1).\n",
    "> Finally these two arrays are concatenated to give the new state."
   ]
  },
  {
   "cell_type": "markdown",
   "metadata": {},
   "source": [
    "## Random Agent"
   ]
  },
  {
   "cell_type": "markdown",
   "metadata": {},
   "source": [
    "***\n",
    "__Question 3__ Implement a random Agent (only ```learned_act``` needs to be implemented):"
   ]
  },
  {
   "cell_type": "code",
   "execution_count": 7,
   "metadata": {},
   "outputs": [],
   "source": [
    "class RandomAgent(Agent):\n",
    "    def __init__(self):\n",
    "        super(RandomAgent, self).__init__()\n",
    "        pass\n",
    "\n",
    "    def learned_act(self, s):\n",
    "        \"\"\" Act via the policy of the agent, from a given state s\n",
    "        it proposes an action a\"\"\"\n",
    "        \"outputs a random value between 0 and 3\"\n",
    "        a = np.random.randint(0, 4)\n",
    "        return a"
   ]
  },
  {
   "cell_type": "markdown",
   "metadata": {},
   "source": [
    "***\n",
    "***\n",
    "__Question 4__ Visualize the game moves. You need to fill in the following function for the evaluation:"
   ]
  },
  {
   "cell_type": "code",
   "execution_count": 8,
   "metadata": {},
   "outputs": [],
   "source": [
    "def test(agent,env,epochs,prefix=''):\n",
    "    # Number of won games\n",
    "    score = 0\n",
    "        \n",
    "    for e in range(epochs):\n",
    "        \n",
    "        # At each epoch, we restart to a fresh game and get the initial state\n",
    "        state = env.reset()\n",
    "        # This assumes that the games will end\n",
    "        game_over = False\n",
    "\n",
    "        win = 0\n",
    "        lose = 0\n",
    "\n",
    "        while not game_over:\n",
    "            # The agent performs an action\n",
    "            action = agent.act(state,train=False)\n",
    "\n",
    "            # Apply an action to the environment, get the next state, the reward\n",
    "            # and if the games end\n",
    "            prev_state = state\n",
    "            state, reward, game_over = env.act(action)\n",
    "\n",
    "            # Update the counters\n",
    "            if reward > 0:\n",
    "                win = win + reward\n",
    "            if reward < 0:\n",
    "                lose = lose -reward            \n",
    "\n",
    "        # Save as a mp4\n",
    "        env.draw(prefix+str(e))\n",
    "\n",
    "        # Update stats\n",
    "        score = score + win-lose\n",
    "\n",
    "        print(\"Win/lose count {}/{}. Average score ({})\"\n",
    "              .format(win, lose, score/(1+e)))\n",
    "    print('Final score: '+str(score/epochs))"
   ]
  },
  {
   "cell_type": "code",
   "execution_count": 9,
   "metadata": {
    "scrolled": true
   },
   "outputs": [
    {
     "name": "stdout",
     "output_type": "stream",
     "text": [
      "Win/lose count 10.0/20.0. Average score (-10.0)\n",
      "Win/lose count 8.0/13.0. Average score (-7.5)\n",
      "Win/lose count 10.0/12.0. Average score (-5.666666666666667)\n",
      "Win/lose count 12.0/15.0. Average score (-5.0)\n",
      "Win/lose count 6.0/17.0. Average score (-6.2)\n",
      "Win/lose count 11.0/9.0. Average score (-4.833333333333333)\n",
      "Win/lose count 12.5/12.0. Average score (-4.071428571428571)\n",
      "Win/lose count 9.5/16.0. Average score (-4.375)\n",
      "Win/lose count 10.0/13.0. Average score (-4.222222222222222)\n",
      "Win/lose count 11.5/15.0. Average score (-4.15)\n",
      "Win/lose count 12.0/13.0. Average score (-3.8636363636363638)\n",
      "Final score: -3.8636363636363638\n"
     ]
    },
    {
     "data": {
      "text/html": [
       "<video alt=\"test\" controls>\n",
       "                <source src=\"data:video/mp4;base64,AAAAIGZ0eXBpc29tAAACAGlzb21pc28yYXZjMW1wNDEAAAAIZnJlZQAAGQltZGF0AAACrQYF//+p3EXpvebZSLeWLNgg2SPu73gyNjQgLSBjb3JlIDE1NyByMjkzNSA1NDVkZTJmIC0gSC4yNjQvTVBFRy00IEFWQyBjb2RlYyAtIENvcHlsZWZ0IDIwMDMtMjAxOCAtIGh0dHA6Ly93d3cudmlkZW9sYW4ub3JnL3gyNjQuaHRtbCAtIG9wdGlvbnM6IGNhYmFjPTEgcmVmPTMgZGVibG9jaz0xOjA6MCBhbmFseXNlPTB4MToweDExMSBtZT1oZXggc3VibWU9NyBwc3k9MSBwc3lfcmQ9MS4wMDowLjAwIG1peGVkX3JlZj0xIG1lX3JhbmdlPTE2IGNocm9tYV9tZT0xIHRyZWxsaXM9MSA4eDhkY3Q9MCBjcW09MCBkZWFkem9uZT0yMSwxMSBmYXN0X3Bza2lwPTEgY2hyb21hX3FwX29mZnNldD00IHRocmVhZHM9NiBsb29rYWhlYWRfdGhyZWFkcz0xIHNsaWNlZF90aHJlYWRzPTAgbnI9MCBkZWNpbWF0ZT0xIGludGVybGFjZWQ9MCBibHVyYXlfY29tcGF0PTAgY29uc3RyYWluZWRfaW50cmE9MCBiZnJhbWVzPTMgYl9weXJhbWlkPTIgYl9hZGFwdD0xIGJfYmlhcz0wIGRpcmVjdD0xIHdlaWdodGI9MSBvcGVuX2dvcD0wIHdlaWdodHA9MiBrZXlpbnQ9MjUwIGtleWludF9taW49MjUgc2NlbmVjdXQ9NDAgaW50cmFfcmVmcmVzaD0wIHJjX2xvb2thaGVhZD00MCByYz1jcmYgbWJ0cmVlPTEgY3JmPTIzLjAgcWNvbXA9MC42MCBxcG1pbj0wIHFwbWF4PTY5IHFwc3RlcD00IGlwX3JhdGlvPTEuNDAgYXE9MToxLjAwAIAAAALHZYiEADP//vaG+BTYUyP+T7/8I/+5H7cfWfrixkIJvrVeQ9GAMl8a/5lGYaXpyc8t7R+vTNAEZz6HlLJIofgUkwDfMsjnE+I06ctmnylTgsspTsqRSlsJk62PvTq5VKHP68mqDvc/D0V5yRlOVeC3SHnYHDPU3uHXmQn7PKdcJHD6NTLLBt0jEJw4vgUZJU0cpT8vYNEi7FICPivPYaQ/XmoCtJdKsIiVGPi0NYXKhBq9vsoxlirdJN0uVO4l0Kt0aNwMyTXHouHx8q1mA2WAlrXZl6uDJjcciwKvYk6YQ6AAfvLg6rLNO3VMKRVfbFIKDbFQC6wuNVQdvRDlZuX0VONby0iN5OX7MBnYEKGHi3TcU+e1vxgUy5kcVWm9NYMMZ2aByMCyuKCj7i4kP3JVsMKPPLycgKUCVT8LJcYYAJZ0GptWHki5afYDLTdf5YywYizeFnM8UxSITaEUMbf78GI/WP/CWMYoRD5vyKsLBGa1YVATQ0yGCw0JSJke01acanL/xEL4X/nb26ceiy2ox8sAAAMAkPyJ7LC7uFiHH8xsiYP32wFfEiUura76rLDIXaaJDAmI0ieQbdjhMxUdbElnDA7I38EZicAjB0c5NSTRRMy1ZIWrKQZWTpjc+74w7c4JJuMAMYcTGJ74fKhaYD10zXfCbFfYS6iEQL2FwHrpGcR05jkwM93F8ZSn++GHP877OfI28kq7VQHWA75MMnAD8ZcigHbwC5usaf64d8zSC0IWmoC4SpS8Ugjs5k5N0mdq8bdw1adRV0C3a4TYoA/f7oaY14zIdXYfJs7EtrFjOImY/5T5ZOo6KyTTockOzdhAAFRMHT7izekwlfYAQkyHqvDpkiAxaHdORgJR1R7vhrHQNBDIGsPKVXPvD2X+Gxvf4BPXAZ7dTcAEhF9rmXs6JIqVMF1XT4NjPQi7acvtjJUgAC1hAAAAfEGaIWxDP/6eEAMLwRz9EAgdwFIX//DEbpn0eZkSNTUOCZldfxs01x6VvPlW6wpVThZ3Bf/8QJTLqI7jJ5NPchJM0mv8JQDxhoJVf5k+SlRuXm7M4qn1DCnA7aj/XLOFO//3ydYs3W3k9ihzL7GY0G+nVwQWL8SYKs3+ERcAAAAYQZpCPCGTKYQ3//6nhADH0ifymCb2FdWxAAAAGEGaZUnhDyZTAhn//p4QAvvumxlybKtsnAAAABJBnoNFETwr/wDyvwOhJYWsbMEAAAAQAZ6kakK/APKC851oYXiHwQAAABlBmqZJqEFomUwIZ//+nhAC6e6bGXJsq2y9AAAAGEGax0nhClJlMCGf/p4QAtfxO+2Qx9YRLwAAABtBmuhJ4Q6JlMCG//6nhAB3PZWBCf4Tgt0JMCAAAAAYQZsJSeEPJlMCG//+p4QAdpPCxrkOcN6AAAAAG0GbLEnhDyZTAhv//qeEAHn9g/m0glazLat64QAAABFBn0pFETwr/wBkmbmuMsH3cQAAAA4Bn2tqQr8AZIkMybkm4gAAACFBm3BJqEFomUwIZ//+nhABxvf36l50/KgKZD91xH1mPL0AAAARQZ+ORREsL/8ARWe+2/vKq+EAAAAPAZ+tdEK/AF+APik2yVUXAAAAEAGfr2pCvwBdI2u6yGHJNUAAAAAZQZuxSahBbJlMCGf//p4QAR74h/bIY+sJgQAAAB1Bm9NJ4QpSZTBRUsM//p4QALr7pvte85VuKs4W4QAAABABn/JqQr8AJrLIYfQEg5T4AAAAGUGb9EnhDomUwIZ//p4QAHlKdsFkYECkT0AAAAAYQZoVSeEPJlMCGf/+nhAAT/3TfRUrNfI3AAAAGUGaNknhDyZTAhv//qeEAA17q0ghE/y3pYAAAAAZQZpXSeEPJlMCG//+p4QADY+wf4Tgt0KpwQAAABlBmnhJ4Q8mUwId//6plgAEgKOdaHq++U3BAAAAGkGam0nhDyZTAh3//qmWAASn48/NgwZ06FqQAAAAEUGeuUURPCv/AAdtXBrjLCCTAAAADgGe2mpCvwAHbBmMm5SmAAAAHUGa3kmoQWiZTAh3//6plgAEZ+PP37INr2d96jWBAAAAEEGe/EURLCv/AAcUH/CNRREAAAAPAZ8dakK/AASJUjdZ6tFeAAAAF0GbAkmoQWyZTAhv//6nhAADng8KeskgAAAADkGfIEUVLC//AAIrn5nxAAAADwGfX3RCvwAEt3HdHbfD1wAAABABn0FqQr8ABIlSO9nj7quBAAAAGkGbRUmoQWyZTAhv//6nhAAIqgCzbbPs+fHAAAAAEkGfY0UVLCv/AAcVnfWPwX7cQQAAAA4Bn4RqQr8ABxWeLZ+sNwAAABxBm4lJqEFsmUwIZ//+nhAAId8Q/i6O5r0persxAAAAFUGfp0UVLC//AAfE+/0WK7eWk0BsMQAAABABn8Z0Qr8ACs5okT4sxSzwAAAAEAGfyGpCvwAKy25FXgCglIAAAAAZQZvKSahBbJlMCGf//p4QABWvdN9FSs1+XwAAABlBm+tJ4QpSZTAhv/6nhAADng8KdZ0+7FyAAAAAGUGaDEnhDomUwIb//qeEAAO0Dwp1nT7sVoAAAAAZQZotSeEPJlMCHf/+qZYAAu3yDNAHpL7ZcQAAABFBmlFJ4Q8mUwIb//6nhAABJwAAAAxBnm9FETwv/wAAsoEAAAAQAZ6OdEK/AAdCxWLz+BzqQAAAAA8BnpBqQr8ABKlSN1nq0U4AAAAcQZqVSahBaJlMCGf//p4QACGiHOmwXojr7+nCwQAAABBBnrNFESwv/wAFQoEVpRv4AAAADwGe0nRCvwAEttGLgPzx4AAAABABntRqQr8ABz+cNe80rR3BAAAAG0Ga1kmoQWyZTAhn//6eEAA0shjn8OfEDh/h/wAAABhBmvdJ4QpSZTAhv/6nhAAU/0T/UpAK8EEAAAAfQZsZSeEOiZTBTRMM//6eEAB+vXI3Yy8ysQIS+/RvoQAAABABnzhqQr8AGwdU8mB694CAAAAAG0GbOknhDyZTAhv//qeEADN0if6rfVQIT+624QAAABlBm1tJ4Q8mUwIb//6nhAA0rq0dH3GzBYSQAAAAGEGbfUnhDyZTBRE8O//+qZYAGyqQZoBJlQAAAA8Bn5xqQr8ALEo0TUlOO4EAAAARQZuBSeEPJlMCG//+p4QAAScAAAATQZ+/RRE8L/8AHxa65TMfMRFXlQAAABABn950Qr8ALFaO8rZQ9N3BAAAAEAGfwGpCvwAsSjRMiaVnHcAAAAAeQZvESahBaJlMCGf//p4QAUj3gAGX6OY5/aJ1uicpAAAAEEGf4kURLCv/AEN2K9YNT8AAAAAPAZ4DakK/AENeaILUeXZPAAAAGUGaBUmoQWyZTAhv//6nhABSPdTj/D6ttzMAAAAcQZonSeEKUmUwUVLDf/6nhAB8FgLNuM3up8W9MQAAABABnkZqQr8AZx1TyYHr28qBAAAAEkGaSUnhDomUwUTDf/6nhAABJwAAAA8BnmhqQr8AaYFjYHKbm4AAAAAZQZpqSeEPJlMCG//+p4QAfsHhTrOn3W3egQAAABlBmo1J4Q8mUwIb//6nhADH0if6kdGkNNBAAAAAD0Geq0URPCv/AKO24EmQQAAAAA8BnsxqQr8Ao/KB5MEWyoEAAAAaQZrQSahBaJlMCG///qeEATRAFm2IA0hpZ8EAAAAPQZ7uRREsK/8A+AP+aXPhAAAADgGfD2pCvwD1rAN963ufAAAAGkGbEUmoQWyZTAhv//6nhAJh0T/UifZ8aqSAAAAAGUGbMknhClJlMCHf/qmWATPyDLrSjkXaJG0AAAAaQZtWSeEOiZTAhv/+p4QCSeP0Cd/x1oZbMgYAAAAVQZ90RRE8L/8BFqA5w0YDn0WV2hlYAAAAEAGfk3RCvwF/AADJLf62bMEAAAAQAZ+VakK/APgzB5LmfJKRgAAAABxBm5pJqEFomUwIb//+p4QBNfjp9zIwtmKEcucdAAAAEEGfuEURLC//ALpQIKUMHZkAAAAPAZ/XdEK/AYmyru83aeNAAAAAEAGf2WpCvwD4AvOdaGF4hcEAAAAaQZvbSahBbJlMCHf//qmWAGM9pfzukKYRHTAAAAAZQZv+SeEKUmUwId/+qZYAPr7S/ndIUwiW0QAAABFBnhxFNEwr/wBpmbmuPe9RCwAAAA8Bnj1qQr8AaYlpUigSqfMAAAAZQZohSahBaJlMCG///qeEAHwYBNvmPxDUgAAAABJBnl9FESwr/wBnHbhdhvpeb80AAAAPAZ5gakK/AGcduE4IHGbgAAAAHEGaZUmoQWyZTAhv//6nhAC94rZif6u3up+1avkAAAAQQZ6DRRUsL/8AcVOo3sEYOAAAAA8BnqJ0Qr8AaZ5N55xawIEAAAAQAZ6kakK/AJ8o0TImlZtnwQAAABlBmqhJqEFsmUwIZ//+nhAC6e6b6KlZr35PAAAAD0GexkUVLCv/AJrK4EmUwQAAAA0BnudqQr8Amwaw8UymAAAAGkGa6UmoQWyZTAhv//6nhAB5/YP8JwW6El3AAAAAGEGbCknhClJlMCG//qeEAE/91OP8Pq23OwAAAB5BmyxJ4Q6JlMFNEw3//qeEAE2+On2q8tnwo1uiWIEAAAAPAZ9LakK/AD4g/qkUCVWpAAAAGUGbT0nhDyZTAhv//qeEAEtQBZttn2fNS8EAAAASQZ9tRRE8K/8APMzvoW5IqtmBAAAADgGfjmpCvwA8zPFrXqtnAAAAGkGbkEmoQWiZTAh3//6plgA6SZCTcOCj5piwAAAAMEGbtEnhClJlMCG//qeEARXm+y+IQA//hKiCzF//hJiPxf/6/+mr/Amv0s/veBy11QAAABRBn9JFNEwv/wCoUAlCxFlxufGGdwAAABABn/F0Qr8AkwgDnbHGmg7gAAAAEAGf82pCvwDiMweTA9e2toAAAAAZQZv1SahBaJlMCHf//qmWAJAUc6VLdyFFwQAAABFBmhlJ4QpSZTAhv/6nhAABJwAAAAxBnjdFNEwv/wAAsoEAAAAQAZ5WdEK/AO02BrfSxtFOCQAAAA8BnlhqQr8A5SwC6z1Z6VsAAAAbQZpcSahBaJlMCG///qeEAR36Yn/qONCQ4LuBAAAAD0GeekURLCv/AOeD/ml3oAAAAA8BnptqQr8AmrzRNSU21IEAAAAdQZqeSahBbJlMFEw3//6nhAC6e6n7mRhbMUI5dgUAAAAPAZ69akK/AJbK3SjSHiYGAAAAGEGaoknhClJlMCG//qeEALmCg7t9g/W/pgAAABBBnsBFNEwv/wBulXd/m7+5AAAADwGe/3RCvwBfkmp6s77VwAAAAA8BnuFqQr8Aluzy3DZtTQMAAAAZQZrjSahBaJlMCG///qeEAL3itIIRP8ttAwAAABtBmwdJ4QpSZTAhn/6eEASQQ5VuC87X199tnTEAAAAVQZ8lRTRML/8AtdAgnmxDd0zltZ8dAAAAEAGfRHRCvwCfWjvK2UPSDYEAAAAQAZ9GakK/APKzwLr+3D5+YQAAABtBm0hJqEFomUwIZ//+nhAIh8Rz9Tg+Apn5/VsAAAAXQZtpSeEKUmUwIb/+p4QCYRWjqoaF8ekAAAAXQZuKSeEOiZTAhv/+p4QLSwxqa0UEMP8AAAAaQZusSeEPJlMFETw3//6nhAtLDGpu4ep5M3oAAAAOAZ/LakK/ApBWv8d7yBgAAAAbQZvQSeEPJlMCG//+p4QCSeNP32GWaprcws1JAAAAEEGf7kURPC//ARagM11gx8EAAAAQAZ4NdEK/AX8AAMkt/rZswQAAAA8Bng9qQr8A8nOGwOU2g4AAAAAaQZoRSahBaJlMCG///qeEASX46fUcaEhwW0AAAAAXQZo0SeEKUmUwIb/+p4QBJFB23zH4gtsAAAASQZ5SRTRMK/8A7TO+sfgvzW9AAAAADgGec2pCvwDtM8Wz9SrSAAAAGUGad0moQWiZTAhv//6nhAEsHzHkYn+W2U0AAAARQZ6VRREsK/8A8rMWCQlb7SsAAAAOAZ62akK/APKzWK4ElK0AAAAZQZq4SahBbJlMCG///qeEATQfMeRif5bZQwAAABFBmtxJ4QpSZTAhv/6nhAABJwAAAAxBnvpFNEwv/wAAsoEAAAAQAZ8ZdEK/APWob2XVfwHXwAAAABABnxtqQr8A9ahvYrR9un5BAAAAG0GbHUmoQWiZTAhv//6nhAE1+Rw+f1HGhIcFbQAAAB1Bmz9J4QpSZTBREsN//qeEAMj7B/nKdeFGtzHZOAAAAA8Bn15qQr8Ao7bdKNIeJeEAAAAZQZtCSeEOiZTAhv/+p4QAfsHhTrOn3W3egQAAAA9Bn2BFFTwr/wBpiNA1zcAAAAAPAZ+BakK/AGmsWBdf390hAAAAGUGbg0moQWiZTAh3//6plgBlKkGZ+ID3RxwAAAARQZunSeEKUmUwIb/+p4QAAScAAAAMQZ/FRTRML/8AALKBAAAAEAGf5HRCvwD4WKxhUjdwdfEAAAAQAZ/makK/APgah0Jsb7KGYQAAAB5Bm+tJqEFomUwIZ//+nhAE0EOVbgvO19j4CmfOKggAAAAQQZ4JRREsL/8AvtAgpQwdSAAAAA8Bnih0Qr8Ao8YQGSXKj4EAAAAPAZ4qakK/AP7YjyYHr21BAAAAGEGaLEmoQWyZTAhn//6eEATRIVdE8yjmzAAAABhBmk1J4QpSZTAhn/6eEAkGDHP1N/fuU6cAAAAYQZpuSeEOiZTAhv/+p4QCad1OP8PqhfHpAAAAFkGaj0nhDyZTAhv//qeEAmISIcBfHpEAAAAZQZqwSeEPJlMCHf/+qZYBRwp+U0Y/OQSFgAAAABVBmtRJ4Q8mUwIb//6nhAzrWkFDQQ8AAAASQZ7yRRE8L/8CARycWLg2K9RNAAAAEAGfEXRCvwKwQBztjE2qSMAAAAAQAZ8TakK/ApBYKpvpIKwyoAAAABxBmxVJqEFomUwId//+qZYBTO2oB/eFqCfnQkLBAAAAEkGbOUnhClJlMCHf/qmWAACVgAAAABJBn1dFNEwv/wICfixWsdX/mfEAAAAPAZ92dEK/Aq/NUDpuX5EHAAAADwGfeGpCvwKuVlyGkO9DWgAAABpBm3xJqEFomUwId//+qZYBN++rKrM2skSNgQAAAA9Bn5pFESwr/wGJI0DWVMAAAAANAZ+7akK/AYmxIt6ypwAAAB5Bm6BJqEFsmUwIb//+p4QKTsx+IDZb+Hnia5COvK0AAAARQZ/eRRUsL/8B1frypMifbugAAAAPAZ/9dEK/AnbSsYL+0G3AAAAADwGf/2pCvwF/JaVIoEqiLwAAABxBm+RJqEFsmUwIZ//+nhAEd+If4ol5zpsVAZ3QAAAAEEGeAkUVLC//ALFQIKUMHjkAAAAPAZ4hdEK/AO0XoDJLlMWAAAAAEAGeI2pCvwDtAvOdaGF4icEAAAAZQZolSahBbJlMCGf//p4QAtfumxlybKts3QAAABpBmklL4QhClJEYIKAfyAf2HgCFf/44QAARcQAAACNBnmdFNEwv/wIB3OpL2zMKuYDoGrWoXAlAGWiTwt8ykzScMQAAAA8BnoZ0Qr8AkSpHEdl2VUEAAAAmAZ6IakK/Aq9j7UHE3arDSSblqoYNL7LVCtHuYJfKkPOKRUXc3tcAAAtQbW9vdgAAAGxtdmhkAAAAAAAAAAAAAAAAAAAD6AAAH5AAAQAAAQAAAAAAAAAAAAAAAAEAAAAAAAAAAAAAAAAAAAABAAAAAAAAAAAAAAAAAABAAAAAAAAAAAAAAAAAAAAAAAAAAAAAAAAAAAAAAAAAAgAACnp0cmFrAAAAXHRraGQAAAADAAAAAAAAAAAAAAABAAAAAAAAH5AAAAAAAAAAAAAAAAAAAAAAAAEAAAAAAAAAAAAAAAAAAAABAAAAAAAAAAAAAAAAAABAAAAAARAAAAEQAAAAAAAkZWR0cwAAABxlbHN0AAAAAAAAAAEAAB+QAAAEAAABAAAAAAnybWRpYQAAACBtZGhkAAAAAAAAAAAAAAAAAAAyAAABlABVxAAAAAAALWhkbHIAAAAAAAAAAHZpZGUAAAAAAAAAAAAAAABWaWRlb0hhbmRsZXIAAAAJnW1pbmYAAAAUdm1oZAAAAAEAAAAAAAAAAAAAACRkaW5mAAAAHGRyZWYAAAAAAAAAAQAAAAx1cmwgAAAAAQAACV1zdGJsAAAAlXN0c2QAAAAAAAAAAQAAAIVhdmMxAAAAAAAAAAEAAAAAAAAAAAAAAAAAAAAAARABEABIAAAASAAAAAAAAAABAAAAAAAAAAAAAAAAAAAAAAAAAAAAAAAAAAAAAAAAAAAAGP//AAAAL2F2Y0MB9AAN/+EAF2f0AA2RmygiEdCAAAADAIAAABkHihTLAQAFaOvjxEgAAAAYc3R0cwAAAAAAAAABAAAAygAAAgAAAAAUc3RzcwAAAAAAAAABAAAAAQAABShjdHRzAAAAAAAAAKMAAAADAAAEAAAAAAEAAAgAAAAAAgAAAgAAAAAEAAAEAAAAAAEAAAgAAAAAAgAAAgAAAAABAAAKAAAAAAEAAAQAAAAAAQAAAAAAAAABAAACAAAAAAEAAAQAAAAAAQAABgAAAAABAAACAAAAAAUAAAQAAAAAAQAACAAAAAACAAACAAAAAAEAAAgAAAAAAgAAAgAAAAABAAAKAAAAAAEAAAQAAAAAAQAAAAAAAAABAAACAAAAAAEAAAgAAAAAAgAAAgAAAAABAAAKAAAAAAEAAAQAAAAAAQAAAAAAAAABAAACAAAAAAQAAAQAAAAAAQAACgAAAAABAAAEAAAAAAEAAAAAAAAAAQAAAgAAAAABAAAKAAAAAAEAAAQAAAAAAQAAAAAAAAABAAACAAAAAAIAAAQAAAAAAQAABgAAAAABAAACAAAAAAIAAAQAAAAAAQAABgAAAAABAAACAAAAAAEAAAoAAAAAAQAABAAAAAABAAAAAAAAAAEAAAIAAAAAAQAACAAAAAACAAACAAAAAAEAAAQAAAAAAQAABgAAAAABAAACAAAAAAEAAAYAAAAAAQAAAgAAAAABAAAEAAAAAAEAAAgAAAAAAgAAAgAAAAABAAAIAAAAAAIAAAIAAAAAAgAABAAAAAABAAAKAAAAAAEAAAQAAAAAAQAAAAAAAAABAAACAAAAAAEAAAoAAAAAAQAABAAAAAABAAAAAAAAAAEAAAIAAAAAAQAABAAAAAABAAAIAAAAAAIAAAIAAAAAAQAACAAAAAACAAACAAAAAAEAAAoAAAAAAQAABAAAAAABAAAAAAAAAAEAAAIAAAAAAQAACAAAAAACAAACAAAAAAIAAAQAAAAAAQAABgAAAAABAAACAAAAAAEAAAgAAAAAAgAAAgAAAAABAAAEAAAAAAEAAAoAAAAAAQAABAAAAAABAAAAAAAAAAEAAAIAAAAAAQAABAAAAAABAAAKAAAAAAEAAAQAAAAAAQAAAAAAAAABAAACAAAAAAEAAAgAAAAAAgAAAgAAAAABAAAGAAAAAAEAAAIAAAAAAQAACgAAAAABAAAEAAAAAAEAAAAAAAAAAQAAAgAAAAABAAAEAAAAAAEAAAoAAAAAAQAABAAAAAABAAAAAAAAAAEAAAIAAAAAAwAABAAAAAABAAAGAAAAAAEAAAIAAAAAAQAACgAAAAABAAAEAAAAAAEAAAAAAAAAAQAAAgAAAAABAAAEAAAAAAEAAAgAAAAAAgAAAgAAAAABAAAIAAAAAAIAAAIAAAAAAQAABAAAAAABAAAKAAAAAAEAAAQAAAAAAQAAAAAAAAABAAACAAAAAAEAAAQAAAAAAQAABgAAAAABAAACAAAAAAEAAAgAAAAAAgAAAgAAAAABAAAEAAAAAAEAAAoAAAAAAQAABAAAAAABAAAAAAAAAAEAAAIAAAAAAQAACgAAAAABAAAEAAAAAAEAAAAAAAAAAQAAAgAAAAAFAAAEAAAAAAEAAAoAAAAAAQAABAAAAAABAAAAAAAAAAEAAAIAAAAAAQAABAAAAAABAAAKAAAAAAEAAAQAAAAAAQAAAAAAAAABAAACAAAAAAEAAAgAAAAAAgAAAgAAAAABAAAKAAAAAAEAAAQAAAAAAQAAAAAAAAABAAACAAAAAAEAAAoAAAAAAQAABAAAAAABAAAAAAAAAAEAAAIAAAAAAQAABAAAAAABAAAKAAAAAAEAAAQAAAAAAQAAAAAAAAABAAACAAAAABxzdHNjAAAAAAAAAAEAAAABAAAAygAAAAEAAAM8c3RzegAAAAAAAAAAAAAAygAABXwAAACAAAAAHAAAABwAAAAWAAAAFAAAAB0AAAAcAAAAHwAAABwAAAAfAAAAFQAAABIAAAAlAAAAFQAAABMAAAAUAAAAHQAAACEAAAAUAAAAHQAAABwAAAAdAAAAHQAAAB0AAAAeAAAAFQAAABIAAAAhAAAAFAAAABMAAAAbAAAAEgAAABMAAAAUAAAAHgAAABYAAAASAAAAIAAAABkAAAAUAAAAFAAAAB0AAAAdAAAAHQAAAB0AAAAVAAAAEAAAABQAAAATAAAAIAAAABQAAAATAAAAFAAAAB8AAAAcAAAAIwAAABQAAAAfAAAAHQAAABwAAAATAAAAFQAAABcAAAAUAAAAFAAAACIAAAAUAAAAEwAAAB0AAAAgAAAAFAAAABYAAAATAAAAHQAAAB0AAAATAAAAEwAAAB4AAAATAAAAEgAAAB4AAAAdAAAAHgAAABkAAAAUAAAAFAAAACAAAAAUAAAAEwAAABQAAAAeAAAAHQAAABUAAAATAAAAHQAAABYAAAATAAAAIAAAABQAAAATAAAAFAAAAB0AAAATAAAAEQAAAB4AAAAcAAAAIgAAABMAAAAdAAAAFgAAABIAAAAeAAAANAAAABgAAAAUAAAAFAAAAB0AAAAVAAAAEAAAABQAAAATAAAAHwAAABMAAAATAAAAIQAAABMAAAAcAAAAFAAAABMAAAATAAAAHQAAAB8AAAAZAAAAFAAAABQAAAAfAAAAGwAAABsAAAAeAAAAEgAAAB8AAAAUAAAAFAAAABMAAAAeAAAAGwAAABYAAAASAAAAHQAAABUAAAASAAAAHQAAABUAAAAQAAAAFAAAABQAAAAfAAAAIQAAABMAAAAdAAAAEwAAABMAAAAdAAAAFQAAABAAAAAUAAAAFAAAACIAAAAUAAAAEwAAABMAAAAcAAAAHAAAABwAAAAaAAAAHQAAABkAAAAWAAAAFAAAABQAAAAgAAAAFgAAABYAAAATAAAAEwAAAB4AAAATAAAAEQAAACIAAAAVAAAAEwAAABMAAAAgAAAAFAAAABMAAAAUAAAAHQAAAB4AAAAnAAAAEwAAACoAAAAUc3RjbwAAAAAAAAABAAAAMAAAAGJ1ZHRhAAAAWm1ldGEAAAAAAAAAIWhkbHIAAAAAAAAAAG1kaXJhcHBsAAAAAAAAAAAAAAAALWlsc3QAAAAlqXRvbwAAAB1kYXRhAAAAAQAAAABMYXZmNTguMjAuMTAw\" type=\"video/mp4\" />\n",
       "             </video>"
      ],
      "text/plain": [
       "<IPython.core.display.HTML object>"
      ]
     },
     "execution_count": 9,
     "metadata": {},
     "output_type": "execute_result"
    }
   ],
   "source": [
    "# Initialize the game\n",
    "env = Environment(grid_size=size, max_time=T,temperature=temperature)\n",
    "\n",
    "# Initialize the agent!\n",
    "agent = RandomAgent()\n",
    "\n",
    "test(agent,env,epochs_test,prefix='random')\n",
    "HTML(display_videos('random0.mp4'))"
   ]
  },
  {
   "cell_type": "markdown",
   "metadata": {},
   "source": [
    "***\n",
    "## DQN"
   ]
  },
  {
   "cell_type": "markdown",
   "metadata": {},
   "source": [
    "Let us assume here that $T=\\infty$.\n",
    "\n",
    "***\n",
    "__Question 5__ Let $\\pi$ be a policy, show that:\n",
    "\n",
    "\\begin{equation*}\n",
    "Q^{\\pi}(s,a)=E_{(s',a')\\sim p(.|s,a)}[r(s,a)+\\gamma Q^{\\pi}(s',a')]\n",
    "\\end{equation*}\n",
    "\n",
    "Then, show that for the optimal policy $\\pi^*$ (we assume its existence), the following holds: \n",
    "\n",
    "\\begin{equation*}\n",
    "Q^{*}(s,a)=E_{s'\\sim \\pi^*(.|s,a)}[r(s,a)+\\gamma\\max_{a'}Q^{*}(s',a')].\n",
    "\\end{equation*}\n",
    "Finally, deduce that a plausible objective is:\n",
    "\n",
    "\\begin{equation*}\n",
    "\\mathcal{L}(\\theta)=E_{s' \\sim \\pi^*(.|s,a)}\\Vert r+\\gamma\\max\\max_{a'}Q(s',a',\\theta)-Q(s,a,\\theta)\\Vert^{2}.\n",
    "\\end{equation*}\n",
    "\n",
    "\n"
   ]
  },
  {
   "cell_type": "markdown",
   "metadata": {},
   "source": [
    "> Starting from the formula of the $Q$_function :\n",
    "$$Q^\\pi(s,a)=E_{p^{\\pi}}[\\sum_{t=0}^{\\infty}\\gamma^{t}r(s_{t},a_{t})|s_{0}=s,a_{0}=a] $$\n",
    "Then \n",
    "$$ Q^\\pi(s,a)=E_{p^{\\pi}}[r(s_{0},a_{0}) + \\sum_{t=1}^{\\infty}{\\gamma^{t}r(s_{t},a_{t})}|s_{0}=s,a_{0}=a] $$\n",
    "Let's introduce $s$', $a$' such as for any $t$>0, $(s'_{t},a'_{t}) = (s_{t+1},a_{t+1})$. This change of variable implies following $p^\\pi(.|s, a)$, thus:\n",
    "$$ Q^\\pi(s,a)=E_{p^{\\pi}}[r(s,a)] + E_{(s',a')\\sim p(.|s,a)}[\\sum_{t=0}^{\\infty}{\\gamma^{t+1}r(s'_{t},a'_{t})}|s'_{0}=s_{1},a'_{0}=a_{1}] $$\n",
    "As $r(s,a)$ = cst and $E_{(s',a')\\sim p(.|s,a)}[\\sum_{t=0}^{\\infty}{\\gamma^{t}r(s'_{t},a'_{t})}|s'_{0}=s_{1},a'_{0}=a_{1}] = Q^{\\pi}(s',a')$\n",
    "$$ Q^\\pi(s,a)= E_{(s',a')\\sim p(.|s,a)}[r(s,a) +\\gamma * \\sum_{t=0}^{\\infty}{\\gamma^{t}r(s'_{t},a'_{t})}|s'_{0}=s_{1},a'_{0}=a_{1}] $$\n",
    "$$ Q^{\\pi}(s,a)=E_{(s',a')\\sim p(.|s,a)}[r(s,a)+\\gamma Q^{\\pi}(s',a')] $$\n",
    "$$ $$\n",
    "$$ $$\n",
    "We have \n",
    "$$ Q^*(s,a)=\\max_{\\pi}Q^\\pi(s,a)$$\n",
    "As $a'$ is the only variable which depends on $\\pi$, we can maximize with respect to $a'$. Thus :\n",
    "$$ Q^*(s,a)=\\max_{a'}E_{(s',a')\\sim \\pi^*(.|s,a)}[r(s,a)+\\gamma Q^{\\pi}(s',a')] $$\n",
    "$$ Q^*(s,a)=E_{(s',a')\\sim \\pi^*(.|s,a)}[\\max_{a'}r(s,a)+\\max_{a'}\\gamma Q^{\\pi}(s',a')] $$\n",
    "$$ Q^*(s,a)=E_{(s',)\\sim \\pi^*(.|s,a)}[r(s,a)+\\max_{a'}\\gamma Q^{\\pi}(s',a')] $$\n",
    "$$ $$\n",
    "$$ $$\n",
    "Then a plausible objective would be : \n",
    "$$ \\mathcal{L}(\\theta) = \\Vert Q^*(s,a,\\theta)-Q(s,a,\\theta)\\Vert^{2}$$\n",
    "$$ \\mathcal{L}(\\theta) = \\Vert E_{(s',)\\sim \\pi^*(.|s,a)}[r+\\max_{a'}\\gamma Q^{\\pi}(s',a',\\theta)]-Q(s,a,\\theta)\\Vert^{2}$$\n",
    "$$ \\mathcal{L}(\\theta) = E_{(s',)\\sim \\pi^*(.|s,a)} \\Vert r+\\max_{a'}\\gamma Q^{\\pi}(s',a',\\theta)-Q(s,a,\\theta)\\Vert^{2}$$"
   ]
  },
  {
   "cell_type": "markdown",
   "metadata": {},
   "source": [
    "***\n",
    "The DQN-learning algorithm relies on these derivations to train the parameters $\\theta$ of a Deep Neural Network:\n",
    "\n",
    "1. At the state $s_t$, select the action $a_t$ with best reward using $Q_t$ and store the results;\n",
    "\n",
    "2. Obtain the new state $s_{t+1}$ from the environment $p$;\n",
    "\n",
    "3. Store $(s_t,a_t,s_{t+1})$;\n",
    "\n",
    "4. Obtain $Q_{t+1}$ by minimizing  $\\mathcal{L}$ from a recovered batch from the previously stored results.\n",
    "\n",
    "***\n",
    "__Question 6__ Implement the class ```Memory``` that stores moves (in a replay buffer) via ```remember``` and provides a ```random_access``` to these. Specify a maximum memory size to avoid side effects. You can for example use a ```list()``` and set by default ```max_memory=100```."
   ]
  },
  {
   "cell_type": "code",
   "execution_count": 10,
   "metadata": {},
   "outputs": [],
   "source": [
    "class Memory(object):\n",
    "    def __init__(self, max_memory=100):\n",
    "        self.max_memory = max_memory\n",
    "        self.memory = list()\n",
    "\n",
    "    def remember(self, m):\n",
    "        \"idea : if len(memory)>max then we delete the latest\"\n",
    "        self.memory = self.memory[1-self.max_memory:] + [m]\n",
    "\n",
    "    def random_access(self):\n",
    "        index = np.random.randint(0, len(self.memory))\n",
    "        #choice = self.memory[index]\n",
    "        #del self.memory[index]\n",
    "        #self.memory.append(choice)\n",
    "        return self.memory[index]"
   ]
  },
  {
   "cell_type": "markdown",
   "metadata": {},
   "source": [
    "***\n",
    "The pipeline we will use for training is given below:"
   ]
  },
  {
   "cell_type": "code",
   "execution_count": 11,
   "metadata": {},
   "outputs": [],
   "source": [
    "def train(agent,env,epoch,prefix=''):\n",
    "    # Number of won games\n",
    "    score = 0\n",
    "    loss = 0\n",
    "\n",
    "    for e in range(epoch):\n",
    "        #Update of the agent.Learning_rate\n",
    "        if (e%10 == 0):\n",
    "            agent.Learning_rate = 1/(e/10+1)\n",
    "        \n",
    "        \n",
    "        # At each epoch, we restart to a fresh game and get the initial state\n",
    "        state = env.reset()\n",
    "        # This assumes that the games will terminate\n",
    "        game_over = False\n",
    "\n",
    "        win = 0\n",
    "        lose = 0\n",
    "\n",
    "        while not game_over:\n",
    "            # The agent performs an action\n",
    "            action = agent.act(state)\n",
    "\n",
    "            # Apply an action to the environment, get the next state, the reward\n",
    "            # and if the games end\n",
    "            prev_state = state\n",
    "            state, reward, game_over = env.act(action)\n",
    "\n",
    "            # Update the counters\n",
    "            if reward > 0:\n",
    "                win = win + reward\n",
    "            if reward < 0:\n",
    "                lose = lose -reward\n",
    "\n",
    "            # Apply the reinforcement strategy\n",
    "            loss = agent.reinforce(prev_state, state,  action, reward, game_over)\n",
    "\n",
    "        # Save as a mp4\n",
    "        if e % 10 == 0:\n",
    "            env.draw(prefix+str(e))\n",
    "\n",
    "        # Update stats\n",
    "        score += win-lose\n",
    "\n",
    "        print(\"Epoch {:03d}/{:03d} | Loss {:.4f} | Win/lose count {}/{} ({})\"\n",
    "              .format(e, epoch, loss, win, lose, win-lose))\n",
    "        agent.save(name_weights=prefix+'model.h5',name_model=prefix+'model.json')"
   ]
  },
  {
   "cell_type": "markdown",
   "metadata": {},
   "source": [
    "***\n",
    "__Question 7__ Implement the DQN training algorithm using a cascade of fully connected layers. You can use different learning rate, batch size or memory size parameters. In particular, the loss might oscillate while the player will start to win the games. You have to find a good criterium."
   ]
  },
  {
   "cell_type": "code",
   "execution_count": 12,
   "metadata": {},
   "outputs": [],
   "source": [
    "class DQN(Agent):\n",
    "    def __init__(self, grid_size,  epsilon = 0.1, memory_size=100, batch_size = 16,n_state=2):\n",
    "        super(DQN, self).__init__(epsilon = epsilon)\n",
    "\n",
    "        # Discount for Q learning\n",
    "        self.discount = 0.99\n",
    "        \n",
    "        # Learning rate for the reinforce function\n",
    "        self.Learning_rate = 1 #0.6\n",
    "        \n",
    "        self.grid_size = grid_size\n",
    "        \n",
    "        # number of state\n",
    "        self.n_state = n_state\n",
    "\n",
    "        # Memory\n",
    "        self.memory = Memory(memory_size)\n",
    "        \n",
    "        # Batch size when learning\n",
    "        self.batch_size = batch_size\n",
    "\n",
    "    def learned_act(self, s):\n",
    "        return np.argmax(self.model.predict(np.expand_dims(s, 0))[0])\n",
    "        \n",
    "\n",
    "    def reinforce(self, s_, n_s_, a_, r_, game_over_):\n",
    "        # Two steps: first memorize the states, second learn from the pool\n",
    "\n",
    "        self.memory.remember([s_, n_s_, a_, r_, game_over_])\n",
    "        \n",
    "        input_states = np.zeros((self.batch_size, 5,5,self.n_state))\n",
    "        target_q = np.zeros((self.batch_size, 4))\n",
    "        for i in range(self.batch_size):\n",
    "            ######## FILL IN\n",
    "            s, n_s, a, r, game_over = self.memory.random_access()\n",
    "            input_states[i] = s.copy()\n",
    "            target = self.model.predict(np.expand_dims(s, 0))[0]\n",
    "            \n",
    "            if game_over_:\n",
    "                ######## FILL IN\n",
    "                target[a] = r\n",
    "            else:\n",
    "                ######## FILL IN\n",
    "                n_target= self.model.predict(np.expand_dims(n_s, 0))[0]\n",
    "                target[a] = target[a] + self.Learning_rate*(r + self.discount*max(n_target)-target[a])\n",
    "            target_q[i, :] = target.copy()\n",
    "            \n",
    "        ######## FILL IN\n",
    "        # HINT: Clip the target to avoid exploiding gradients.. -- clipping is a bit tighter\n",
    "        target_q = np.clip(target_q, -3, 3)\n",
    "\n",
    "        l = self.model.train_on_batch(input_states, target_q)\n",
    "        return l\n",
    "\n",
    "    def save(self,name_weights='model.h5',name_model='model.json'):\n",
    "        self.model.save_weights(name_weights, overwrite=True)\n",
    "        with open(name_model, \"w\") as outfile:\n",
    "            json.dump(self.model.to_json(), outfile)\n",
    "            \n",
    "    def load(self,name_weights='model.h5',name_model='model.json'):\n",
    "        with open(name_model, \"r\") as jfile:\n",
    "            model = model_from_json(json.load(jfile))\n",
    "        model.load_weights(name_weights)\n",
    "        model.compile(\"sgd\", \"mse\")\n",
    "        self.model = model\n",
    "\n",
    "            \n",
    "class DQN_FC(DQN):\n",
    "    def __init__(self, *args, lr=0.1,n_state,**kwargs):\n",
    "        super(DQN_FC, self).__init__( *args,**kwargs)\n",
    "        \n",
    "        self.lr = lr\n",
    "        self.n_state=n_state\n",
    "        # NN Model\n",
    "        model = Sequential()\n",
    "        model.add(Reshape((5*5*n_state, ), input_shape = (5, 5, n_state)))\n",
    "        model.add(Dense(25, activation = \"relu\"))\n",
    "        model.add(Dense(25, activation = \"relu\"))\n",
    "        model.add(Dense(4, activation = \"linear\"))\n",
    "        #model.compile(sgd(lr=lr, decay=1e-4, momentum=0.0), \"mse\")\n",
    "        model.compile(Adam(lr=lr), \"mse\")\n",
    "        self.model = model"
   ]
  },
  {
   "cell_type": "code",
   "execution_count": 13,
   "metadata": {
    "scrolled": true
   },
   "outputs": [
    {
     "name": "stdout",
     "output_type": "stream",
     "text": [
      "Epoch 000/061 | Loss 1.6318 | Win/lose count 6.5/4.0 (2.5)\n",
      "Epoch 001/061 | Loss 1.6850 | Win/lose count 2.5/8.0 (-5.5)\n",
      "Epoch 002/061 | Loss 1.7802 | Win/lose count 3.0/0 (3.0)\n",
      "Epoch 003/061 | Loss 1.7437 | Win/lose count 3.5/3.0 (0.5)\n",
      "Epoch 004/061 | Loss 1.7258 | Win/lose count 8.5/4.0 (4.5)\n",
      "Epoch 005/061 | Loss 1.7896 | Win/lose count 4.5/4.0 (0.5)\n",
      "Epoch 006/061 | Loss 1.7889 | Win/lose count 4.5/2.0 (2.5)\n",
      "Epoch 007/061 | Loss 1.9408 | Win/lose count 4.5/3.0 (1.5)\n",
      "Epoch 008/061 | Loss 1.8073 | Win/lose count 4.5/1.0 (3.5)\n",
      "Epoch 009/061 | Loss 1.7679 | Win/lose count 5.0/0 (5.0)\n",
      "Epoch 010/061 | Loss 1.7656 | Win/lose count 4.5/1.0 (3.5)\n",
      "Epoch 011/061 | Loss 1.8645 | Win/lose count 2.5/4.0 (-1.5)\n",
      "Epoch 012/061 | Loss 1.7341 | Win/lose count 0.5/2.0 (-1.5)\n",
      "Epoch 013/061 | Loss 1.6809 | Win/lose count 4.0/2.0 (2.0)\n",
      "Epoch 014/061 | Loss 1.7823 | Win/lose count 2.5/4.0 (-1.5)\n",
      "Epoch 015/061 | Loss 1.7332 | Win/lose count 5.5/4.0 (1.5)\n",
      "Epoch 016/061 | Loss 1.7814 | Win/lose count 8.0/6.0 (2.0)\n",
      "Epoch 017/061 | Loss 1.8148 | Win/lose count 4.5/3.0 (1.5)\n",
      "Epoch 018/061 | Loss 1.7857 | Win/lose count 6.0/2.0 (4.0)\n",
      "Epoch 019/061 | Loss 1.7782 | Win/lose count 4.0/2.0 (2.0)\n",
      "Epoch 020/061 | Loss 1.5251 | Win/lose count 13.0/1.0 (12.0)\n",
      "Epoch 021/061 | Loss 1.6579 | Win/lose count 6.0/0 (6.0)\n",
      "Epoch 022/061 | Loss 1.7331 | Win/lose count 10.5/1.0 (9.5)\n",
      "Epoch 023/061 | Loss 1.7057 | Win/lose count 11.0/3.0 (8.0)\n",
      "Epoch 024/061 | Loss 1.7293 | Win/lose count 9.5/3.0 (6.5)\n",
      "Epoch 025/061 | Loss 1.7647 | Win/lose count 5.0/3.0 (2.0)\n",
      "Epoch 026/061 | Loss 1.8114 | Win/lose count 9.5/3.0 (6.5)\n",
      "Epoch 027/061 | Loss 1.7060 | Win/lose count 5.5/0 (5.5)\n",
      "Epoch 028/061 | Loss 1.7674 | Win/lose count 4.5/3.0 (1.5)\n",
      "Epoch 029/061 | Loss 1.7207 | Win/lose count 9.0/1.0 (8.0)\n",
      "Epoch 030/061 | Loss 1.6168 | Win/lose count 8.5/5.0 (3.5)\n",
      "Epoch 031/061 | Loss 1.4959 | Win/lose count 10.0/2.0 (8.0)\n",
      "Epoch 032/061 | Loss 1.4883 | Win/lose count 4.5/2.0 (2.5)\n",
      "Epoch 033/061 | Loss 1.5061 | Win/lose count 7.0/1.0 (6.0)\n",
      "Epoch 034/061 | Loss 1.5007 | Win/lose count 16.0/5.0 (11.0)\n",
      "Epoch 035/061 | Loss 1.4319 | Win/lose count 5.0/4.0 (1.0)\n",
      "Epoch 036/061 | Loss 1.4076 | Win/lose count 13.0/3.0 (10.0)\n",
      "Epoch 037/061 | Loss 1.4492 | Win/lose count 11.5/3.0 (8.5)\n",
      "Epoch 038/061 | Loss 1.4597 | Win/lose count 10.0/4.0 (6.0)\n",
      "Epoch 039/061 | Loss 1.4803 | Win/lose count 8.0/6.0 (2.0)\n",
      "Epoch 040/061 | Loss 1.3251 | Win/lose count 6.0/2.0 (4.0)\n",
      "Epoch 041/061 | Loss 1.3127 | Win/lose count 11.0/7.0 (4.0)\n",
      "Epoch 042/061 | Loss 1.2711 | Win/lose count 12.0/2.0 (10.0)\n",
      "Epoch 043/061 | Loss 1.2795 | Win/lose count 17.0/4.0 (13.0)\n",
      "Epoch 044/061 | Loss 1.2817 | Win/lose count 13.5/4.0 (9.5)\n",
      "Epoch 045/061 | Loss 1.3382 | Win/lose count 13.5/5.0 (8.5)\n",
      "Epoch 046/061 | Loss 1.3110 | Win/lose count 12.5/3.0 (9.5)\n",
      "Epoch 047/061 | Loss 1.4491 | Win/lose count 15.5/2.0 (13.5)\n",
      "Epoch 048/061 | Loss 1.4479 | Win/lose count 9.0/0 (9.0)\n",
      "Epoch 049/061 | Loss 1.4492 | Win/lose count 17.0/5.0 (12.0)\n",
      "Epoch 050/061 | Loss 1.3261 | Win/lose count 17.5/3.0 (14.5)\n",
      "Epoch 051/061 | Loss 1.3092 | Win/lose count 13.0/2.0 (11.0)\n",
      "Epoch 052/061 | Loss 1.3111 | Win/lose count 12.5/2.0 (10.5)\n",
      "Epoch 053/061 | Loss 1.3765 | Win/lose count 4.5/0 (4.5)\n",
      "Epoch 054/061 | Loss 1.3626 | Win/lose count 11.0/4.0 (7.0)\n",
      "Epoch 055/061 | Loss 1.3435 | Win/lose count 14.5/1.0 (13.5)\n",
      "Epoch 056/061 | Loss 1.3403 | Win/lose count 10.5/4.0 (6.5)\n",
      "Epoch 057/061 | Loss 1.3542 | Win/lose count 16.0/1.0 (15.0)\n",
      "Epoch 058/061 | Loss 1.2898 | Win/lose count 16.5/4.0 (12.5)\n",
      "Epoch 059/061 | Loss 1.2864 | Win/lose count 6.0/1.0 (5.0)\n",
      "Epoch 060/061 | Loss 1.1385 | Win/lose count 9.0/3.0 (6.0)\n"
     ]
    },
    {
     "data": {
      "text/html": [
       "<video alt=\"test\" controls>\n",
       "                <source src=\"data:video/mp4;base64,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\" type=\"video/mp4\" />\n",
       "             </video>"
      ],
      "text/plain": [
       "<IPython.core.display.HTML object>"
      ]
     },
     "execution_count": 13,
     "metadata": {},
     "output_type": "execute_result"
    }
   ],
   "source": [
    "env = Environment(grid_size=size, max_time=T, temperature=0.3)\n",
    "agent = DQN_FC(size, lr=0.001, n_state = 2, epsilon = 0.1, memory_size=2000, batch_size = 32)\n",
    "train(agent, env, epochs_train, prefix='fc_train')\n",
    "HTML(display_videos('fc_train50.mp4'))"
   ]
  },
  {
   "cell_type": "markdown",
   "metadata": {},
   "source": [
    "***\n",
    "***\n",
    "__Question 8__ Implement the DQN training algorithm using a CNN (for example, 2 convolutional layers and one final fully connected layer)."
   ]
  },
  {
   "cell_type": "code",
   "execution_count": 14,
   "metadata": {},
   "outputs": [],
   "source": [
    "from keras.layers import Flatten\n",
    "\n",
    "class DQN_CNN(DQN):\n",
    "    def __init__(self, *args,lr=0.1,**kwargs):\n",
    "        super(DQN_CNN, self).__init__(*args,**kwargs)\n",
    "        \n",
    "        ###### FILL IN\n",
    "        model = Sequential()\n",
    "        model.add(Conv2D(8, (5,5),input_shape = (5, 5, self.n_state), padding = 'same', activation='relu'))\n",
    "        model.add(MaxPooling2D(pool_size=(1,1)))\n",
    "        model.add(Conv2D(16, (5,5), padding = 'same', activation='relu'))\n",
    "        model.add(MaxPooling2D(pool_size=(1,1)))\n",
    "        model.add(Conv2D(32, (5,5), padding = 'same', activation='relu'))\n",
    "        model.add(MaxPooling2D(pool_size=(1,1)))\n",
    "        model.add(Flatten())\n",
    "        model.add(Dense(24, activation = \"relu\"))\n",
    "        model.add(Dense(4, activation = \"linear\"))        \n",
    "        \n",
    "        #model.compile(sgd(lr=lr, decay=1e-4, momentum=0.0), \"mse\")\n",
    "        model.compile(Adam(lr=lr), \"mse\")\n",
    "        self.model = model"
   ]
  },
  {
   "cell_type": "code",
   "execution_count": 15,
   "metadata": {
    "scrolled": true
   },
   "outputs": [
    {
     "name": "stdout",
     "output_type": "stream",
     "text": [
      "Epoch 000/061 | Loss 1.7499 | Win/lose count 1.5/2.0 (-0.5)\n",
      "Epoch 001/061 | Loss 1.2883 | Win/lose count 5.5/7.0 (-1.5)\n",
      "Epoch 002/061 | Loss 1.5102 | Win/lose count 5.0/10.0 (-5.0)\n",
      "Epoch 003/061 | Loss 1.5449 | Win/lose count 5.0/6.0 (-1.0)\n",
      "Epoch 004/061 | Loss 1.8203 | Win/lose count 5.5/7.0 (-1.5)\n",
      "Epoch 005/061 | Loss 1.7217 | Win/lose count 10.0/6.0 (4.0)\n",
      "Epoch 006/061 | Loss 1.7667 | Win/lose count 5.5/2.0 (3.5)\n",
      "Epoch 007/061 | Loss 1.7228 | Win/lose count 7.5/3.0 (4.5)\n",
      "Epoch 008/061 | Loss 1.8424 | Win/lose count 6.5/3.0 (3.5)\n",
      "Epoch 009/061 | Loss 1.8183 | Win/lose count 4.0/2.0 (2.0)\n",
      "Epoch 010/061 | Loss 1.4641 | Win/lose count 1.5/0 (1.5)\n",
      "Epoch 011/061 | Loss 1.8874 | Win/lose count 9.0/2.0 (7.0)\n",
      "Epoch 012/061 | Loss 1.9566 | Win/lose count 9.5/4.0 (5.5)\n",
      "Epoch 013/061 | Loss 1.8679 | Win/lose count 9.0/6.0 (3.0)\n",
      "Epoch 014/061 | Loss 2.0008 | Win/lose count 7.0/1.0 (6.0)\n",
      "Epoch 015/061 | Loss 1.9253 | Win/lose count 6.0/2.0 (4.0)\n",
      "Epoch 016/061 | Loss 2.0614 | Win/lose count 12.5/2.0 (10.5)\n",
      "Epoch 017/061 | Loss 1.9433 | Win/lose count 11.0/3.0 (8.0)\n",
      "Epoch 018/061 | Loss 1.9457 | Win/lose count 15.5/12.0 (3.5)\n",
      "Epoch 019/061 | Loss 1.9241 | Win/lose count 8.0/2.0 (6.0)\n",
      "Epoch 020/061 | Loss 1.8766 | Win/lose count 15.0/6.0 (9.0)\n",
      "Epoch 021/061 | Loss 1.8257 | Win/lose count 13.0/1.0 (12.0)\n",
      "Epoch 022/061 | Loss 1.8784 | Win/lose count 7.5/3.0 (4.5)\n",
      "Epoch 023/061 | Loss 1.8900 | Win/lose count 12.0/2.0 (10.0)\n",
      "Epoch 024/061 | Loss 1.9033 | Win/lose count 13.0/2.0 (11.0)\n",
      "Epoch 025/061 | Loss 1.8986 | Win/lose count 13.5/4.0 (9.5)\n",
      "Epoch 026/061 | Loss 1.9555 | Win/lose count 8.0/1.0 (7.0)\n",
      "Epoch 027/061 | Loss 1.9854 | Win/lose count 5.5/2.0 (3.5)\n",
      "Epoch 028/061 | Loss 1.9597 | Win/lose count 8.0/3.0 (5.0)\n",
      "Epoch 029/061 | Loss 1.9164 | Win/lose count 3.0/2.0 (1.0)\n",
      "Epoch 030/061 | Loss 1.9172 | Win/lose count 6.5/4.0 (2.5)\n",
      "Epoch 031/061 | Loss 1.4986 | Win/lose count 2.0/1.0 (1.0)\n",
      "Epoch 032/061 | Loss 1.6994 | Win/lose count 2.0/3.0 (-1.0)\n",
      "Epoch 033/061 | Loss 1.3502 | Win/lose count 12.5/4.0 (8.5)\n",
      "Epoch 034/061 | Loss 1.1439 | Win/lose count 5.0/3.0 (2.0)\n",
      "Epoch 035/061 | Loss 1.5234 | Win/lose count 9.5/1.0 (8.5)\n",
      "Epoch 036/061 | Loss 1.5186 | Win/lose count 6.0/1.0 (5.0)\n",
      "Epoch 037/061 | Loss 1.2701 | Win/lose count 10.0/7.0 (3.0)\n",
      "Epoch 038/061 | Loss 1.1728 | Win/lose count 9.5/8.0 (1.5)\n",
      "Epoch 039/061 | Loss 1.1520 | Win/lose count 5.0/4.0 (1.0)\n",
      "Epoch 040/061 | Loss 1.1876 | Win/lose count 15.5/6.0 (9.5)\n",
      "Epoch 041/061 | Loss 0.8288 | Win/lose count 12.5/3.0 (9.5)\n",
      "Epoch 042/061 | Loss 1.1407 | Win/lose count 2.0/3.0 (-1.0)\n",
      "Epoch 043/061 | Loss 1.0413 | Win/lose count 8.0/6.0 (2.0)\n",
      "Epoch 044/061 | Loss 1.2447 | Win/lose count 13.0/6.0 (7.0)\n",
      "Epoch 045/061 | Loss 1.0735 | Win/lose count 16.0/4.0 (12.0)\n",
      "Epoch 046/061 | Loss 1.3445 | Win/lose count 9.0/2.0 (7.0)\n",
      "Epoch 047/061 | Loss 1.1393 | Win/lose count 3.5/3.0 (0.5)\n",
      "Epoch 048/061 | Loss 1.2107 | Win/lose count 9.5/1.0 (8.5)\n",
      "Epoch 049/061 | Loss 1.2336 | Win/lose count 11.5/5.0 (6.5)\n",
      "Epoch 050/061 | Loss 1.3112 | Win/lose count 11.0/1.0 (10.0)\n",
      "Epoch 051/061 | Loss 1.0489 | Win/lose count 12.5/3.0 (9.5)\n",
      "Epoch 052/061 | Loss 1.2942 | Win/lose count 10.0/4.0 (6.0)\n",
      "Epoch 053/061 | Loss 0.9374 | Win/lose count 8.0/4.0 (4.0)\n",
      "Epoch 054/061 | Loss 1.7253 | Win/lose count 24.0/6.0 (18.0)\n",
      "Epoch 055/061 | Loss 1.3498 | Win/lose count 8.5/3.0 (5.5)\n",
      "Epoch 056/061 | Loss 1.6391 | Win/lose count 8.5/6.0 (2.5)\n",
      "Epoch 057/061 | Loss 1.4125 | Win/lose count 14.0/4.0 (10.0)\n",
      "Epoch 058/061 | Loss 1.2745 | Win/lose count 11.5/3.0 (8.5)\n",
      "Epoch 059/061 | Loss 1.2081 | Win/lose count 16.0/8.0 (8.0)\n",
      "Epoch 060/061 | Loss 1.0407 | Win/lose count 17.5/7.0 (10.5)\n"
     ]
    },
    {
     "data": {
      "text/html": [
       "<video alt=\"test\" controls>\n",
       "                <source src=\"data:video/mp4;base64,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\" type=\"video/mp4\" />\n",
       "             </video>"
      ],
      "text/plain": [
       "<IPython.core.display.HTML object>"
      ]
     },
     "execution_count": 15,
     "metadata": {},
     "output_type": "execute_result"
    }
   ],
   "source": [
    "env = Environment(grid_size=size, max_time=T, temperature=0.3)\n",
    "agent = DQN_CNN(size, lr=.001, n_state = 2, epsilon = 0.1, memory_size=2000, batch_size = 32)\n",
    "train(agent,env,epochs_train,prefix='cnn_train')\n",
    "HTML(display_videos('cnn_train50.mp4'))"
   ]
  },
  {
   "cell_type": "code",
   "execution_count": 16,
   "metadata": {},
   "outputs": [
    {
     "name": "stdout",
     "output_type": "stream",
     "text": [
      "Win/lose count 7.5/0. Average score (7.5)\n",
      "Win/lose count 4.5/0. Average score (6.0)\n",
      "Win/lose count 5.0/1.0. Average score (5.333333333333333)\n",
      "Win/lose count 7.5/0. Average score (5.875)\n",
      "Win/lose count 6.5/0. Average score (6.0)\n",
      "Win/lose count 4.0/0. Average score (5.666666666666667)\n",
      "Win/lose count 1.0/0. Average score (5.0)\n",
      "Win/lose count 2.0/0. Average score (4.625)\n",
      "Win/lose count 11.5/2.0. Average score (5.166666666666667)\n",
      "Win/lose count 1.0/0. Average score (4.75)\n",
      "Win/lose count 15.5/0. Average score (5.7272727272727275)\n",
      "Final score: 5.7272727272727275\n"
     ]
    },
    {
     "data": {
      "text/html": [
       "<video alt=\"test\" controls>\n",
       "                <source src=\"data:video/mp4;base64,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\" type=\"video/mp4\" />\n",
       "             </video>"
      ],
      "text/plain": [
       "<IPython.core.display.HTML object>"
      ]
     },
     "execution_count": 16,
     "metadata": {},
     "output_type": "execute_result"
    }
   ],
   "source": [
    "test(agent,env,epochs_test,prefix='cnn_test')\n",
    "HTML(display_videos('cnn_test10.mp4'))"
   ]
  },
  {
   "cell_type": "markdown",
   "metadata": {},
   "source": [
    "***\n",
    "***\n",
    "__Question 9__ Test both algorithms and compare their performances. Which issue(s) do you observe? Observe also different behaviors by changing the temperature."
   ]
  },
  {
   "cell_type": "code",
   "execution_count": 17,
   "metadata": {
    "scrolled": true
   },
   "outputs": [
    {
     "name": "stdout",
     "output_type": "stream",
     "text": [
      "Test of the CNN\n",
      "Win/lose count 22.0/1.0. Average score (21.0)\n",
      "Win/lose count 7.0/1.0. Average score (13.5)\n",
      "Win/lose count 13.5/0. Average score (13.5)\n",
      "Win/lose count 5.0/0. Average score (11.375)\n",
      "Win/lose count 15.5/0. Average score (12.2)\n",
      "Win/lose count 22.0/0. Average score (13.833333333333334)\n",
      "Win/lose count 2.0/1.0. Average score (12.0)\n",
      "Win/lose count 25.5/2.0. Average score (13.4375)\n",
      "Win/lose count 4.5/0. Average score (12.444444444444445)\n",
      "Win/lose count 9.5/1.0. Average score (12.05)\n",
      "Win/lose count 9.0/0. Average score (11.772727272727273)\n",
      "Final score: 11.772727272727273\n",
      "Test of the FC\n",
      "Win/lose count 20.0/0. Average score (20.0)\n",
      "Win/lose count 0.5/1.0. Average score (9.75)\n",
      "Win/lose count 18.5/0. Average score (12.666666666666666)\n",
      "Win/lose count 16.0/0. Average score (13.5)\n",
      "Win/lose count 8.0/0. Average score (12.4)\n",
      "Win/lose count 19.0/0. Average score (13.5)\n",
      "Win/lose count 18.0/0. Average score (14.142857142857142)\n",
      "Win/lose count 27.0/1.0. Average score (15.625)\n",
      "Win/lose count 12.5/0. Average score (15.277777777777779)\n",
      "Win/lose count 5.0/0. Average score (14.25)\n",
      "Win/lose count 15.0/0. Average score (14.318181818181818)\n",
      "Final score: 14.318181818181818\n"
     ]
    }
   ],
   "source": [
    "env = Environment(grid_size=size, max_time=T,temperature=0.5)\n",
    "agent_cnn = DQN_CNN(size, lr=.001, n_state=2, epsilon = 0.1, memory_size=2000, batch_size = 32)\n",
    "agent_cnn.load(name_weights='cnn_trainmodel.h5',name_model='cnn_trainmodel.json')\n",
    "\n",
    "agent_fc = DQN_FC(size, lr=.001, n_state=2, epsilon = 0.1, memory_size=2000, batch_size = 32)\n",
    "agent_fc.load(name_weights='fc_trainmodel.h5',name_model='fc_trainmodel.json')\n",
    "print('Test of the CNN')\n",
    "test(agent_cnn,env,epochs_test,prefix='cnn_test')\n",
    "print('Test of the FC')\n",
    "test(agent_fc,env,epochs_test,prefix='fc_test')"
   ]
  },
  {
   "cell_type": "code",
   "execution_count": 18,
   "metadata": {},
   "outputs": [
    {
     "data": {
      "text/html": [
       "<video alt=\"test\" controls>\n",
       "                <source src=\"data:video/mp4;base64,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\" type=\"video/mp4\" />\n",
       "             </video>"
      ],
      "text/plain": [
       "<IPython.core.display.HTML object>"
      ]
     },
     "execution_count": 18,
     "metadata": {},
     "output_type": "execute_result"
    }
   ],
   "source": [
    "HTML(display_videos('cnn_test10.mp4'))"
   ]
  },
  {
   "cell_type": "code",
   "execution_count": 19,
   "metadata": {},
   "outputs": [
    {
     "data": {
      "text/html": [
       "<video alt=\"test\" controls>\n",
       "                <source src=\"data:video/mp4;base64,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\" type=\"video/mp4\" />\n",
       "             </video>"
      ],
      "text/plain": [
       "<IPython.core.display.HTML object>"
      ]
     },
     "execution_count": 19,
     "metadata": {},
     "output_type": "execute_result"
    }
   ],
   "source": [
    "HTML(display_videos('fc_test10.mp4'))"
   ]
  },
  {
   "cell_type": "markdown",
   "metadata": {},
   "source": [
    ">The fully connected layers agent seems to reach a better performance on testing than the convolutionnal agent.\n",
    ">The main issue occurs when the mouse cannot see any red square next to it. When this event occurs, the mouse is stuck for a long time.\n",
    ">The higher the temperature, the better the fc algorithm compared to the cnn. On the contrary, the lower the temperature, the better CNN is compared to fc."
   ]
  },
  {
   "cell_type": "markdown",
   "metadata": {},
   "source": [
    "***\n",
    "\n",
    "The algorithm tends to not explore the map which can be an issue. We propose two ideas in order to encourage exploration:\n",
    "1. Incorporating a decreasing $\\epsilon$-greedy exploration. You can use the method ```set_epsilon```\n",
    "2. Append via the environment a new state that describes if a cell has been visited or not\n",
    "\n",
    "***\n",
    "__Question 10__ Design a new ```train_explore``` function and environment class ```EnvironmentExploring``` to tackle the issue of exploration.\n",
    "\n"
   ]
  },
  {
   "cell_type": "code",
   "execution_count": 23,
   "metadata": {},
   "outputs": [],
   "source": [
    "def train_explore(agent,env,epoch,prefix=''):\n",
    "    # Number of won games\n",
    "    score = 0\n",
    "    loss = 0\n",
    "\n",
    "    for e in range(epoch):\n",
    "        #Update of the agent.Learning_rate\n",
    "        if (e%10 == 0):\n",
    "            agent.Learning_rate = 1/(e/10+1)\n",
    "            print(agent.Learning_rate)\n",
    "        #Update of the agent.epsilon\n",
    "        if (e%10 == 0):\n",
    "            agent.set_epsilon(2*agent.epsilon/(e/10+1))\n",
    "            print(agent.epsilon)\n",
    "        \n",
    "        # At each epoch, we restart to a fresh game and get the initial state\n",
    "        state = env.reset()\n",
    "        # This assumes that the games will terminate\n",
    "        game_over = False\n",
    "\n",
    "        win = 0\n",
    "        lose = 0\n",
    "\n",
    "        while not game_over:\n",
    "            # The agent performs an action\n",
    "            action = agent.act(state)\n",
    "\n",
    "            # Apply an action to the environment, get the next state, the reward\n",
    "            # and if the games end\n",
    "            prev_state = state\n",
    "            \n",
    "            # add train = True\n",
    "            state, reward, game_over = env.act(action, train=True)\n",
    "\n",
    "            # Update the counters\n",
    "            if reward > 0:\n",
    "                win = win + reward\n",
    "            if reward < 0:\n",
    "                lose = lose -reward\n",
    "\n",
    "            # Apply the reinforcement strategy\n",
    "            loss = agent.reinforce(prev_state, state,  action, reward, game_over)\n",
    "\n",
    "        # Save as a mp4\n",
    "        if e % 10 == 0:\n",
    "            env.draw(prefix+str(e))\n",
    "\n",
    "        # Update stats\n",
    "        score += win-lose\n",
    "\n",
    "        print(\"Epoch {:03d}/{:03d} | Loss {:.4f} | Win/lose count {}/{} ({})\"\n",
    "              .format(e, epoch, loss, win, lose, win-lose))\n",
    "        agent.save(name_weights=prefix+'model.h5',name_model=prefix+'model.json')\n",
    "        \n",
    "class EnvironmentExploring(object):\n",
    "    def __init__(self, grid_size=10, max_time=500, temperature=0.1):\n",
    "        grid_size = grid_size+4\n",
    "        self.grid_size = grid_size\n",
    "        self.max_time = max_time\n",
    "        self.temperature = temperature\n",
    "\n",
    "        #board on which one plays\n",
    "        self.board = np.zeros((grid_size,grid_size))\n",
    "        self.position = np.zeros((grid_size,grid_size))\n",
    "        \n",
    "        # add malus_position \n",
    "        self.malus_position = np.zeros((grid_size,grid_size))\n",
    "\n",
    "        # coordinate of the cat\n",
    "        self.x = 0\n",
    "        self.y = 1\n",
    "\n",
    "        # self time\n",
    "        self.t = 0\n",
    "\n",
    "        self.scale=16\n",
    "\n",
    "        self.to_draw = np.zeros((max_time+2, grid_size*self.scale, grid_size*self.scale, 3))\n",
    "\n",
    "\n",
    "    def draw(self,e):\n",
    "        skvideo.io.vwrite(str(e) + '.mp4', self.to_draw)\n",
    "\n",
    "    def get_frame(self,t):\n",
    "        b = np.zeros((self.grid_size,self.grid_size,3))+128\n",
    "        b[self.board>0,0] = 256\n",
    "        b[self.board < 0, 2] = 256\n",
    "        b[self.x,self.y,:]=256\n",
    "        b[-2:,:,:]=0\n",
    "        b[:,-2:,:]=0\n",
    "        b[:2,:,:]=0\n",
    "        b[:,:2,:]=0\n",
    "        \n",
    "        b =  cv2.resize(b, None, fx=self.scale, fy=self.scale, interpolation=cv2.INTER_NEAREST)\n",
    "\n",
    "        self.to_draw[t,:,:,:]=b\n",
    "\n",
    "\n",
    "    def act(self, action, train=True):\n",
    "        \"\"\"This function returns the new state, reward and decides if the\n",
    "        game ends.\"\"\"\n",
    "\n",
    "        self.get_frame(int(self.t))\n",
    "\n",
    "        self.position = np.zeros((self.grid_size, self.grid_size))\n",
    "\n",
    "        self.position[0:2,:]= -1\n",
    "        self.position[:,0:2] = -1\n",
    "        self.position[-2:, :] = -1\n",
    "        self.position[:, -2:] = -1\n",
    "\n",
    "        self.position[self.x, self.y] = 1\n",
    "        if action == 0:\n",
    "            if self.x == self.grid_size-3:\n",
    "                self.x = self.x-1\n",
    "            else:\n",
    "                self.x = self.x + 1\n",
    "        elif action == 1:\n",
    "            if self.x == 2:\n",
    "                self.x = self.x+1\n",
    "            else:\n",
    "                self.x = self.x-1\n",
    "        elif action == 2:\n",
    "            if self.y == self.grid_size - 3:\n",
    "                self.y = self.y - 1\n",
    "            else:\n",
    "                self.y = self.y + 1\n",
    "        elif action == 3:\n",
    "            if self.y == 2:\n",
    "                self.y = self.y + 1\n",
    "            else:\n",
    "                self.y = self.y - 1\n",
    "        else:\n",
    "            RuntimeError('Error: action not recognized')\n",
    "        \n",
    "        # Change reward calculation\n",
    "        reward = 0\n",
    "        if train:\n",
    "            reward = -self.malus_position[self.x, self.y]\n",
    "        self.malus_position[self.x, self.y] = 0.3\n",
    "\n",
    "        reward = reward + self.board[self.x, self.y]\n",
    "        \n",
    "        \n",
    "        self.t = self.t + 1\n",
    "        self.board[self.x, self.y] = 0\n",
    "        game_over = self.t > self.max_time\n",
    "        # 3 \"feature\" states instead of 2\n",
    "        state = np.concatenate((self.malus_position.reshape(self.grid_size, self.grid_size,1),\n",
    "                                self.board.reshape(self.grid_size, self.grid_size,1),\n",
    "                        self.position.reshape(self.grid_size, self.grid_size,1)),axis=2)\n",
    "        state = state[self.x-2:self.x+3,self.y-2:self.y+3,:]\n",
    "\n",
    "        return state, reward, game_over\n",
    "\n",
    "    def reset(self):\n",
    "        \"\"\"This function resets the game and returns the initial state\"\"\"\n",
    "\n",
    "        self.x = np.random.randint(3, self.grid_size-3, size=1)[0]\n",
    "        self.y = np.random.randint(3, self.grid_size-3, size=1)[0]\n",
    "\n",
    "\n",
    "        bonus = 0.5*np.random.binomial(1,self.temperature,size=self.grid_size**2)\n",
    "        bonus = bonus.reshape(self.grid_size,self.grid_size)\n",
    "\n",
    "        malus = -1.0*np.random.binomial(1,self.temperature,size=self.grid_size**2)\n",
    "        malus = malus.reshape(self.grid_size, self.grid_size)\n",
    "\n",
    "        self.to_draw = np.zeros((self.max_time+2, self.grid_size*self.scale, self.grid_size*self.scale, 3))\n",
    "\n",
    "\n",
    "        malus[bonus>0]=0\n",
    "\n",
    "        self.board = bonus + malus\n",
    "\n",
    "        # add malus_position \n",
    "        self.malus_position = np.zeros((self.grid_size,self.grid_size))\n",
    "        \n",
    "        self.position = np.zeros((self.grid_size, self.grid_size))\n",
    "        self.position[0:2,:]= -1\n",
    "        self.position[:,0:2] = -1\n",
    "        self.position[-2:, :] = -1\n",
    "        self.position[:,-2:] = -1\n",
    "        self.board[self.x,self.y] = 0\n",
    "        self.t = 0\n",
    "\n",
    "        state = np.concatenate((self.malus_position.reshape(self.grid_size, self.grid_size,1),\n",
    "                                self.board.reshape(self.grid_size, self.grid_size,1),\n",
    "                        self.position.reshape(self.grid_size, self.grid_size,1)),axis=2)\n",
    "\n",
    "        state = state[self.x - 2:self.x + 3, self.y - 2:self.y + 3, :]\n",
    "        return state"
   ]
  },
  {
   "cell_type": "code",
   "execution_count": 24,
   "metadata": {
    "scrolled": true
   },
   "outputs": [
    {
     "name": "stdout",
     "output_type": "stream",
     "text": [
      "1.0\n",
      "0.2\n",
      "Epoch 000/061 | Loss 0.0323 | Win/lose count 11.5/54.5999999999999 (-43.0999999999999)\n",
      "Epoch 001/061 | Loss 1.8557 | Win/lose count 11.0/54.89999999999988 (-43.89999999999988)\n",
      "Epoch 002/061 | Loss 1.8819 | Win/lose count 7.5/53.19999999999988 (-45.69999999999988)\n",
      "Epoch 003/061 | Loss 1.7418 | Win/lose count 14.5/53.39999999999986 (-38.89999999999986)\n",
      "Epoch 004/061 | Loss 1.8018 | Win/lose count 13.0/55.099999999999845 (-42.099999999999845)\n",
      "Epoch 005/061 | Loss 0.8921 | Win/lose count 7.0/59.39999999999981 (-52.39999999999981)\n",
      "Epoch 006/061 | Loss 1.7447 | Win/lose count 12.5/48.89999999999994 (-36.39999999999994)\n",
      "Epoch 007/061 | Loss 1.9038 | Win/lose count 12.5/50.79999999999992 (-38.29999999999992)\n",
      "Epoch 008/061 | Loss 1.7713 | Win/lose count 16.0/50.59999999999989 (-34.59999999999989)\n",
      "Epoch 009/061 | Loss 1.7801 | Win/lose count 12.0/54.89999999999986 (-42.89999999999986)\n",
      "0.5\n",
      "0.2\n",
      "Epoch 010/061 | Loss 1.8754 | Win/lose count 8.0/56.799999999999855 (-48.799999999999855)\n",
      "Epoch 011/061 | Loss 1.8392 | Win/lose count 9.5/54.69999999999986 (-45.19999999999986)\n",
      "Epoch 012/061 | Loss 1.9376 | Win/lose count 11.0/53.399999999999864 (-42.399999999999864)\n",
      "Epoch 013/061 | Loss 1.9462 | Win/lose count 11.5/51.29999999999991 (-39.79999999999991)\n",
      "Epoch 014/061 | Loss 1.7965 | Win/lose count 16.0/51.49999999999989 (-35.49999999999989)\n",
      "Epoch 015/061 | Loss 1.8846 | Win/lose count 9.5/48.6999999999999 (-39.1999999999999)\n",
      "Epoch 016/061 | Loss 1.8121 | Win/lose count 12.0/54.899999999999864 (-42.899999999999864)\n",
      "Epoch 017/061 | Loss 1.8326 | Win/lose count 14.5/52.29999999999988 (-37.79999999999988)\n",
      "Epoch 018/061 | Loss 1.7305 | Win/lose count 7.5/56.89999999999982 (-49.39999999999982)\n",
      "Epoch 019/061 | Loss 1.8462 | Win/lose count 13.5/50.299999999999905 (-36.799999999999905)\n",
      "0.3333333333333333\n",
      "0.13333333333333333\n",
      "Epoch 020/061 | Loss 1.9263 | Win/lose count 4.5/62.199999999999825 (-57.699999999999825)\n",
      "Epoch 021/061 | Loss 1.9140 | Win/lose count 10.0/54.59999999999988 (-44.59999999999988)\n",
      "Epoch 022/061 | Loss 1.7547 | Win/lose count 6.0/59.19999999999984 (-53.19999999999984)\n",
      "Epoch 023/061 | Loss 1.9485 | Win/lose count 9.0/52.89999999999988 (-43.89999999999988)\n",
      "Epoch 024/061 | Loss 1.8171 | Win/lose count 9.0/49.39999999999989 (-40.39999999999989)\n",
      "Epoch 025/061 | Loss 1.8239 | Win/lose count 11.0/53.09999999999988 (-42.09999999999988)\n",
      "Epoch 026/061 | Loss 2.0022 | Win/lose count 10.0/54.99999999999986 (-44.99999999999986)\n",
      "Epoch 027/061 | Loss 2.0065 | Win/lose count 11.5/55.299999999999876 (-43.799999999999876)\n",
      "Epoch 028/061 | Loss 1.9333 | Win/lose count 15.0/52.599999999999895 (-37.599999999999895)\n",
      "Epoch 029/061 | Loss 1.9082 | Win/lose count 11.0/58.39999999999984 (-47.39999999999984)\n",
      "0.25\n",
      "0.06666666666666667\n",
      "Epoch 030/061 | Loss 1.9784 | Win/lose count 9.5/56.19999999999986 (-46.69999999999986)\n",
      "Epoch 031/061 | Loss 2.0672 | Win/lose count 14.5/51.59999999999986 (-37.09999999999986)\n",
      "Epoch 032/061 | Loss 1.8257 | Win/lose count 11.5/55.099999999999866 (-43.599999999999866)\n",
      "Epoch 033/061 | Loss 1.8851 | Win/lose count 12.5/49.19999999999993 (-36.69999999999993)\n",
      "Epoch 034/061 | Loss 1.9170 | Win/lose count 10.5/54.69999999999985 (-44.19999999999985)\n",
      "Epoch 035/061 | Loss 1.9029 | Win/lose count 7.0/56.79999999999983 (-49.79999999999983)\n",
      "Epoch 036/061 | Loss 2.0247 | Win/lose count 10.0/50.39999999999989 (-40.39999999999989)\n",
      "Epoch 037/061 | Loss 1.9041 | Win/lose count 10.5/49.799999999999876 (-39.299999999999876)\n",
      "Epoch 038/061 | Loss 1.9904 | Win/lose count 10.5/53.69999999999985 (-43.19999999999985)\n",
      "Epoch 039/061 | Loss 1.9541 | Win/lose count 11.0/52.79999999999988 (-41.79999999999988)\n",
      "0.2\n",
      "0.026666666666666665\n",
      "Epoch 040/061 | Loss 1.7672 | Win/lose count 3.5/56.19999999999982 (-52.69999999999982)\n",
      "Epoch 041/061 | Loss 2.0596 | Win/lose count 9.5/55.999999999999865 (-46.499999999999865)\n",
      "Epoch 042/061 | Loss 1.9241 | Win/lose count 6.5/58.59999999999991 (-52.09999999999991)\n",
      "Epoch 043/061 | Loss 1.9326 | Win/lose count 8.0/49.79999999999991 (-41.79999999999991)\n",
      "Epoch 044/061 | Loss 2.0523 | Win/lose count 15.5/40.49999999999996 (-24.999999999999957)\n",
      "Epoch 045/061 | Loss 2.1313 | Win/lose count 4.5/59.9999999999998 (-55.4999999999998)\n",
      "Epoch 046/061 | Loss 1.9484 | Win/lose count 3.5/61.19999999999979 (-57.69999999999979)\n",
      "Epoch 047/061 | Loss 2.0094 | Win/lose count 5.0/54.89999999999985 (-49.89999999999985)\n",
      "Epoch 048/061 | Loss 1.9041 | Win/lose count 6.5/59.099999999999824 (-52.599999999999824)\n",
      "Epoch 049/061 | Loss 1.8741 | Win/lose count 9.5/52.89999999999992 (-43.39999999999992)\n",
      "0.16666666666666666\n",
      "0.008888888888888889\n",
      "Epoch 050/061 | Loss 1.9819 | Win/lose count 5.0/56.79999999999985 (-51.79999999999985)\n",
      "Epoch 051/061 | Loss 1.8732 | Win/lose count 10.0/57.199999999999854 (-47.199999999999854)\n",
      "Epoch 052/061 | Loss 1.9169 | Win/lose count 11.0/57.999999999999844 (-46.999999999999844)\n",
      "Epoch 053/061 | Loss 1.8766 | Win/lose count 10.0/54.699999999999875 (-44.699999999999875)\n",
      "Epoch 054/061 | Loss 1.9439 | Win/lose count 7.0/56.599999999999866 (-49.599999999999866)\n",
      "Epoch 055/061 | Loss 1.9953 | Win/lose count 10.0/53.49999999999993 (-43.49999999999993)\n",
      "Epoch 056/061 | Loss 1.9152 | Win/lose count 8.5/52.799999999999926 (-44.299999999999926)\n",
      "Epoch 057/061 | Loss 1.9631 | Win/lose count 7.0/54.99999999999989 (-47.99999999999989)\n",
      "Epoch 058/061 | Loss 1.9636 | Win/lose count 11.5/56.69999999999987 (-45.19999999999987)\n",
      "Epoch 059/061 | Loss 1.8511 | Win/lose count 8.5/52.59999999999984 (-44.09999999999984)\n",
      "0.14285714285714285\n",
      "0.0025396825396825397\n",
      "Epoch 060/061 | Loss 1.9579 | Win/lose count 6.5/54.199999999999875 (-47.699999999999875)\n"
     ]
    },
    {
     "data": {
      "text/html": [
       "<video alt=\"test\" controls>\n",
       "                <source src=\"data:video/mp4;base64,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\" type=\"video/mp4\" />\n",
       "             </video>"
      ],
      "text/plain": [
       "<IPython.core.display.HTML object>"
      ]
     },
     "execution_count": 24,
     "metadata": {},
     "output_type": "execute_result"
    }
   ],
   "source": [
    "# Training\n",
    "env = EnvironmentExploring(grid_size=size, max_time=T, temperature=0.3)\n",
    "agent = DQN_FC(size, lr=.1,n_state=3 , epsilon = 0.1, memory_size=2000, batch_size = 32)\n",
    "train_explore(agent, env, epochs_train, prefix='cnn_train_explore')\n",
    "HTML(display_videos('cnn_train_explore10.mp4'))"
   ]
  },
  {
   "cell_type": "code",
   "execution_count": 25,
   "metadata": {},
   "outputs": [
    {
     "name": "stdout",
     "output_type": "stream",
     "text": [
      "Win/lose count 0/61.79999999999977. Average score (-61.79999999999977)\n",
      "Win/lose count 2.5/58.299999999999805. Average score (-58.799999999999784)\n",
      "Win/lose count 0/59.69999999999979. Average score (-59.09999999999979)\n",
      "Win/lose count 0/61.199999999999775. Average score (-59.62499999999979)\n",
      "Win/lose count 1.0/59.39999999999979. Average score (-59.37999999999979)\n",
      "Win/lose count 0.5/60.299999999999784. Average score (-59.44999999999979)\n",
      "Win/lose count 1.0/59.59999999999979. Average score (-59.328571428571216)\n",
      "Win/lose count 1.5/59.899999999999785. Average score (-59.21249999999979)\n",
      "Win/lose count 0/59.69999999999979. Average score (-59.26666666666646)\n",
      "Win/lose count 1.0/59.899999999999785. Average score (-59.22999999999979)\n",
      "Win/lose count 2.5/58.8999999999998. Average score (-58.97272727272706)\n",
      "Final score: -58.97272727272706\n"
     ]
    },
    {
     "data": {
      "text/html": [
       "<video alt=\"test\" controls>\n",
       "                <source src=\"data:video/mp4;base64,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\" type=\"video/mp4\" />\n",
       "             </video>"
      ],
      "text/plain": [
       "<IPython.core.display.HTML object>"
      ]
     },
     "execution_count": 25,
     "metadata": {},
     "output_type": "execute_result"
    }
   ],
   "source": [
    "# Evaluation\n",
    "test(agent,env,epochs_test,prefix='cnn_test_explore')\n",
    "HTML(display_videos('cnn_test_explore10.mp4'))"
   ]
  },
  {
   "cell_type": "markdown",
   "metadata": {},
   "source": [
    "***\n",
    "***\n",
    "__BONUS question__ Use the expert DQN from the previous question to generate some winning games. Train a model that mimicks its behavior. Compare the performances."
   ]
  },
  {
   "cell_type": "markdown",
   "metadata": {},
   "source": []
  },
  {
   "cell_type": "markdown",
   "metadata": {},
   "source": [
    "***"
   ]
  }
 ],
 "metadata": {
  "kernelspec": {
   "display_name": "Python 3",
   "language": "python",
   "name": "python3"
  },
  "language_info": {
   "codemirror_mode": {
    "name": "ipython",
    "version": 3
   },
   "file_extension": ".py",
   "mimetype": "text/x-python",
   "name": "python",
   "nbconvert_exporter": "python",
   "pygments_lexer": "ipython3",
   "version": "3.6.7"
  }
 },
 "nbformat": 4,
 "nbformat_minor": 2
}
